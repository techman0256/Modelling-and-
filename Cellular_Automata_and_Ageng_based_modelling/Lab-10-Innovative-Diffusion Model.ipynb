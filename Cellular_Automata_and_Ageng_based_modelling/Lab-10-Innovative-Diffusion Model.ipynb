{
  "nbformat": 4,
  "nbformat_minor": 0,
  "metadata": {
    "colab": {
      "provenance": []
    },
    "kernelspec": {
      "name": "python3",
      "display_name": "Python 3"
    },
    "language_info": {
      "name": "python"
    }
  },
  "cells": [
    {
      "cell_type": "code",
      "execution_count": null,
      "metadata": {
        "id": "CroBJ8cBb7_9"
      },
      "outputs": [],
      "source": [
        "import numpy as np\n",
        "import matplotlib\n",
        "import matplotlib.pyplot as plt\n",
        "import matplotlib.image as mpimg\n",
        "import matplotlib.animation as animation\n",
        "from IPython.display import HTML  # for embedded matplotlib animation\n",
        "from math import *\n",
        "import random\n",
        "import seaborn as sns\n",
        "\n",
        "matplotlib.rc('animation', html='html5')"
      ]
    },
    {
      "cell_type": "code",
      "source": [
        "global NEUTRAL, INFLUENCED\n",
        "NEUTRAL = 0 #Not influenced\n",
        "INFLUENCED = 1"
      ],
      "metadata": {
        "id": "KDKjIYgvsfdK"
      },
      "execution_count": null,
      "outputs": []
    },
    {
      "cell_type": "code",
      "source": [
        "def initBar(m, n, hotSites):\n",
        "#   global AMBIENT\n",
        "    ambientBar = NEUTRAL * np.ones((m, n))\n",
        "    bar = applyHotCold(ambientBar, hotSites)\n",
        "    return bar"
      ],
      "metadata": {
        "id": "f-iSMQkVsfNx"
      },
      "execution_count": null,
      "outputs": []
    },
    {
      "cell_type": "code",
      "source": [
        "def applyHotCold(bar, rightSites): #applies influenced to the population\n",
        "    for k in range(len(rightSites)):\n",
        "        bar[rightSites[k, 0], rightSites[k, 1]] = INFLUENCED\n",
        "    return bar"
      ],
      "metadata": {
        "id": "lJoXiUkSN6He"
      },
      "execution_count": null,
      "outputs": []
    },
    {
      "cell_type": "code",
      "source": [
        "def reflectingLat(lat):\n",
        "    latNS = np.row_stack((lat[0], lat, lat[-1]))\n",
        "    return np.column_stack((latNS[:,0], latNS, latNS[:,-1]))"
      ],
      "metadata": {
        "id": "-C70RzD9VDFx"
      },
      "execution_count": null,
      "outputs": []
    },
    {
      "cell_type": "code",
      "source": [
        "def periodicLat(lat): #This is the function of the boundary conditions.\n",
        "    latN = np.row_stack((lat[-1], lat))\n",
        "    latS = np.row_stack((latN, lat[0]))\n",
        "    latE = np.column_stack((latS[:,-1], latS))\n",
        "    return np.column_stack((latE, latS[:,0]))"
      ],
      "metadata": {
        "id": "sR8cqrX15Gx5"
      },
      "execution_count": null,
      "outputs": []
    },
    {
      "cell_type": "code",
      "source": [
        "def applyDiffusionExtended(latExt, P):\n",
        "    m = latExt.shape[0] - 2\n",
        "    n = latExt.shape[1] - 2\n",
        "    # newLat = latExt[0,m\n",
        "    newLat = np.zeros((m, n))\n",
        "\n",
        "    for i in range(1, m + 1):\n",
        "        for j in range(1, n + 1):\n",
        "            site = latExt[i, j]\n",
        "            N = latExt[i - 1, j]\n",
        "            NE = latExt[i - 1, j + 1]\n",
        "            E = latExt[i, j + 1]\n",
        "            SE = latExt[i + 1, j + 1]\n",
        "            S = latExt[i + 1, j]\n",
        "            SW = latExt[i + 1, j - 1]\n",
        "            W = latExt[i, j - 1]\n",
        "            NW = latExt[i - 1, j - 1]\n",
        "            newLat[i - 1, j - 1] = interaction(site, N, NE, E, SE, S, SW, W, NW, p = P);\n",
        "    return newLat"
      ],
      "metadata": {
        "id": "PIOH9lZqUq3c"
      },
      "execution_count": null,
      "outputs": []
    },
    {
      "cell_type": "code",
      "source": [
        "def prob_get_infection(k, P):\n",
        "  return 1 - (1-P)**k"
      ],
      "metadata": {
        "id": "QJr8dLB_jC_E"
      },
      "execution_count": null,
      "outputs": []
    },
    {
      "cell_type": "code",
      "source": [
        "def interaction(site, N, NE, E, SE, S, SW, W, NW, p=0.125):\n",
        "    peer = N + NE + E + SE + S + SW + W + NW\n",
        "    if (site == 0 and peer > 0 and np.random.rand() < prob_get_infection(peer, p)):\n",
        "      return 1\n",
        "    else :\n",
        "      return site"
      ],
      "metadata": {
        "id": "cpSMYQIzSQcZ"
      },
      "execution_count": null,
      "outputs": []
    },
    {
      "cell_type": "code",
      "source": [
        "def  interactionSim(m, n, hotSites, t, boundary, P):\n",
        "    # Initialize grid\n",
        "    bar = initBar(m, n, hotSites)\n",
        "    change = np.array([])\n",
        "    # Perform simulation\n",
        "    grids = np.zeros((t + 1, m, n))\n",
        "    grids[0, :, :] = bar\n",
        "    for i in range(1, t + 1):\n",
        "        # Extend matrix\n",
        "        barExtended = boundary(bar)\n",
        "\n",
        "        # Apply spread of heat function to each grid point\n",
        "        bar = applyDiffusionExtended(barExtended, P)\n",
        "        # reapply hot and cold spots\n",
        "\n",
        "        # Save new matrix\n",
        "        grids[i, :, :] = bar\n",
        "        change = np.append(change, np.sum(grids[i, :, :]) - np.sum(grids[i - 1, :, :]))\n",
        "    return grids, change"
      ],
      "metadata": {
        "id": "RCJaaeM6VZLX"
      },
      "execution_count": null,
      "outputs": []
    },
    {
      "cell_type": "code",
      "source": [
        "def animate_simulation(grids, time):\n",
        "  Writer = animation.writers['ffmpeg']\n",
        "  writer = Writer(fps=60, metadata=dict(artist='Me'), bitrate=1800)\n",
        "\n",
        "  figGray = plt.figure()\n",
        "  plt.axis('off')\n",
        "  imGray = plt.imshow(grids[0,:,:], cmap='gray', interpolation='nearest', animated=True)\n",
        "\n",
        "  # The animation function, called to produce a frame for each generation.\n",
        "  def updatefig(i, *args):\n",
        "      global grids\n",
        "      imGray.set_array(grids[i,:,:])\n",
        "      return imGray,\n",
        "\n",
        "  grid_ani = animation.FuncAnimation(figGray, updatefig, save_count = len(grids),\n",
        "                                    interval=50, blit=False)\n",
        "  plt.show()\n",
        "\n",
        "  # To save the animation, use the command, placed before HTML:\n",
        "  grid_ani.save('DiffusionGray.mp4', writer=writer)\n",
        "\n",
        "  return HTML(grid_ani.to_html5_video())"
      ],
      "metadata": {
        "id": "WLT9-pwwWYkX"
      },
      "execution_count": null,
      "outputs": []
    },
    {
      "cell_type": "code",
      "source": [
        "def generate_random_matrix(n, p_range, q_range):\n",
        "    # Generate random integers for each column\n",
        "    column1 = np.random.randint(0, p_range, size=n)\n",
        "    column2 = np.random.randint(0, q_range, size=n)\n",
        "\n",
        "    # Combine columns into a matrix\n",
        "    result_matrix = np.column_stack((column1, column2))\n",
        "\n",
        "    return result_matrix"
      ],
      "metadata": {
        "id": "DKz9iVzgb2QX"
      },
      "execution_count": null,
      "outputs": []
    },
    {
      "cell_type": "code",
      "source": [
        "print(generate_random_matrix(5, 10, 30) )"
      ],
      "metadata": {
        "colab": {
          "base_uri": "https://localhost:8080/"
        },
        "id": "uKy7O0Omb-BV",
        "outputId": "0d8b7c1e-8761-443b-cb52-b7bb8ff40660"
      },
      "execution_count": null,
      "outputs": [
        {
          "output_type": "stream",
          "name": "stdout",
          "text": [
            "[[ 6 19]\n",
            " [ 0  6]\n",
            " [ 0  8]\n",
            " [ 5 21]\n",
            " [ 1  4]]\n"
          ]
        }
      ]
    },
    {
      "cell_type": "code",
      "source": [
        "m = 15\n",
        "n = 50\n",
        "t = 50\n",
        "# influenced = np.array([[2, 4], [2, 5], [4, 4], [7, 10], [4, 10], [9, 25]])\n",
        "influenced = generate_random_matrix(10, m, n)\n",
        "grids, change = interactionSim(m, n, influenced, t, reflectingLat, 0.125)\n",
        "\n",
        "animate_simulation(grids, t)"
      ],
      "metadata": {
        "colab": {
          "base_uri": "https://localhost:8080/",
          "height": 669
        },
        "id": "5YhweFS7OYYX",
        "outputId": "56f71ddd-bbb6-43ee-f0e0-5cffcb854ca0"
      },
      "execution_count": null,
      "outputs": [
        {
          "output_type": "display_data",
          "data": {
            "text/plain": [
              "<Figure size 640x480 with 1 Axes>"
            ],
            "image/png": "[encoded data removed]"
          },
          "metadata": {}
        },
        {
          "output_type": "execute_result",
          "data": {
            "text/plain": [
              "<IPython.core.display.HTML object>"
            ],
            "text/html": [
              "<video width=\"640\" height=\"480\" controls autoplay loop>\n",
              "  <source type=\"video/mp4\" src=\"data:video/mp4;base64,AAAAIGZ0eXBNNFYgAAACAE00ViBpc29taXNvMmF2YzEAAAAIZnJlZQAANO1tZGF0AAACrgYF//+q\n",
              "3EXpvebZSLeWLNgg2SPu73gyNjQgLSBjb3JlIDE2MyByMzA2MCA1ZGI2YWE2IC0gSC4yNjQvTVBF\n",
              "Ry00IEFWQyBjb2RlYyAtIENvcHlsZWZ0IDIwMDMtMjAyMSAtIGh0dHA6Ly93d3cudmlkZW9sYW4u\n",
              "b3JnL3gyNjQuaHRtbCAtIG9wdGlvbnM6IGNhYmFjPTEgcmVmPTMgZGVibG9jaz0xOjA6MCBhbmFs\n",
              "eXNlPTB4MzoweDExMyBtZT1oZXggc3VibWU9NyBwc3k9MSBwc3lfcmQ9MS4wMDowLjAwIG1peGVk\n",
              "X3JlZj0xIG1lX3JhbmdlPTE2IGNocm9tYV9tZT0xIHRyZWxsaXM9MSA4eDhkY3Q9MSBjcW09MCBk\n",
              "ZWFkem9uZT0yMSwxMSBmYXN0X3Bza2lwPTEgY2hyb21hX3FwX29mZnNldD0tMiB0aHJlYWRzPTMg\n",
              "bG9va2FoZWFkX3RocmVhZHM9MSBzbGljZWRfdGhyZWFkcz0wIG5yPTAgZGVjaW1hdGU9MSBpbnRl\n",
              "cmxhY2VkPTAgYmx1cmF5X2NvbXBhdD0wIGNvbnN0cmFpbmVkX2ludHJhPTAgYmZyYW1lcz0zIGJf\n",
              "cHlyYW1pZD0yIGJfYWRhcHQ9MSBiX2JpYXM9MCBkaXJlY3Q9MSB3ZWlnaHRiPTEgb3Blbl9nb3A9\n",
              "MCB3ZWlnaHRwPTIga2V5aW50PTI1MCBrZXlpbnRfbWluPTIwIHNjZW5lY3V0PTQwIGludHJhX3Jl\n",
              "ZnJlc2g9MCByY19sb29rYWhlYWQ9NDAgcmM9Y3JmIG1idHJlZT0xIGNyZj0yMy4wIHFjb21wPTAu\n",
              "NjAgcXBtaW49MCBxcG1heD02OSBxcHN0ZXA9NCBpcF9yYXRpbz0xLjQwIGFxPTE6MS4wMACAAAAC\n",
              "L2WIhAA3//728P4FNjuY0JcRzeidMx+/Fbi6NDe9zgAAAwAAAwAAAwG5pYX/dnfziCAAAAMAdsAV\n",
              "AIAEbDZC5DVDwGTyAIntEn15RKDpf/vAdsiWdrS0jwUYz7y6A8td4W7R8V+NntcVQ3Za6Hg33boP\n",
              "8RwVv9Bb3w/ly+7g5xCCHBHkWeORBrEYJJUN80CM4nB9F6XvACOUOeqsjKUzEW3UluJFA44FS8tE\n",
              "BRJYG9MiusnfV0U5E+hZurlXLDHhoLbDir86DxcK3kb2fT2iMkAKLS6j2UDuK9ZzMABgP+/5QdKk\n",
              "/SaOxW2vZzWbCjVxIIZ040AsFnLjph+sET8z42zvGeGFsyCiwvFJZRQc3h7rtjPgZy4n1AOnGUTf\n",
              "WscBLkY0GQ4+V0ttJRq5d0nuKfAoLMTz9ayQA0COwAp1czHnn0FLxGWIhh8MTzR2ssmGdOkA39qk\n",
              "yREj8HIEonFdpp8iRPwmpsbIE2gESQiARP5qtps7oMbundzSATBwmK2GX11Z/SunV1dVQOiU6JBi\n",
              "qe4YubzkTsYFwBzVODpMPDZkbDTAZAF7eakWJ6iwJAz52U7Nabu7kP2ocmi8AaX5u7Bjk+Yh3FAS\n",
              "h/k/w6zDSlNKR5yIhy12o0cH9yFYQnPetu2r1Um4XEzPiW3f5q88g7aR2Ag+eQwLkjJQSOooG9GY\n",
              "hcB/3/1A6av/MM7oXauNAVNyBhdKWDH23CEmaAAAAwAAAwAAAwAAAwAAAwAAS8EAAADqQZohbEO/\n",
              "/qmWAAAGeiS+gAcYfu1BGLt64yM34GC908OFUSBUvzGBDSk1pEYXeN6UK6BJXsFWAdzjGICCFU8Z\n",
              "9pjPafRnmu4AruGp5m73HHrAOozv7di2rPlvyH3UF7boKvg0kbhVVsCJqFqSNO9poDnRvI7UJscy\n",
              "+P3k825rhWXkoYXmXOzfqK4hJe09ufLgM1uGlrPydvMtjvLO6GJ/mAvXshejwVI6wgH+ySoWMLRN\n",
              "sImOCvu1pfOJ3CNHGG2bSh4aCovQ7//sGk5+mmNfltPNzfTnEAbizXkCFVDT42Eyc3Mfo6BsAE3A\n",
              "AAABREGaQjwhkymEO//+qZYAAAMCU7wmS3PTqHUAElNIN5xGIPoRjYnbZALzZv7smeWEqE1opXae\n",
              "MVrdOjnAAAAHCIIym1E6t/9FIyYCOyPVSnpXzwQCxrpPc8HkWsyZ95o45UxaLHig1Hwlam3f1GVS\n",
              "YYTNZMe7XQuy0iHNE/ZtdAB9D+zQcVr/BOI2PlKqCtHrY36IhTDbRWysGH4tqtF37KtTeWP2vH7R\n",
              "tNcqwUX2Dnqgzfij5jzfGnWkVj2ZgGpICy2tNvUEwurWHyGkzfV3M/D/5uiNxCfQc+rr0esQGluo\n",
              "/o4dNdrO+NBjYAAPgWSAFdeYIgclSrwhayNRRv+oUM0T3ug+pJGnPN7vyN2GIb0GwmV5JhdntJc1\n",
              "P8zzE4fcZ1h/37/rYeKY3UFcSpwAfUKsgwgK84lYPeP9RdDX9pf+kGADUwAAA9pBmmVJ4Q8mUwId\n",
              "//6plgAABtPbgJWXRQL4IMsADCicf9/oytQIoZ4ZAUsBnTp1wZQCIbBw9SPedgLn18mtEdSs2a+f\n",
              "IrL9Tt/xK5aKHbfR1f4GfEsoJlDIYv4/lvqLi2foGNfliLmG8JOa5zS76hmKJ+HBKbED/JiUyiDG\n",
              "Ce/W1rp/NOO+8iEvFR+VYRWRdnHWof7hqVIFEX3gjy3tHpY5uXVZJ0tUWi8VNNuu+JhM9eB5h4FQ\n",
              "p7O4gyAbvJdrGjqzGYG6lotfpFYplrchtr+m+AzPXnlbRB+KCxfpWl9rD+VEZ0btwUKHN534MSzB\n",
              "Od+XBZyzDqI7onMdJV7YDyCW++fw5clFg463G4ggtcd8KI003fxxUbkAfcArIyepkLQMwUd+NOCO\n",
              "dU7ZRSQU7QBpzXwBr19mUvKCbQwwJWGzdAPp4Au/XOMgyVfuvYFhH3mSqFJiTTNzoJNr7N8p41+B\n",
              "clbXEUlJQ1ud0lT1nWtstMxZ0V736ZdKZXctLrR+kFgW6Pp6O8D+6uwajC9rjRUTbPTvcZzMtDp+\n",
              "K2r0UtyU0c1LlH3Prb8Y3h3VcFk5B/6s7PIh5RcGazRmQqw6wCi/tbwi4KCrQfWjA3V0jKjdM9A/\n",
              "UKrCZfD6THEdhB1qII0kEttx/wwBeuqhRAUjxY5QEJ8JZkxhT4MdD2Ub+ZM/8sVGFwoqnEkWH6vZ\n",
              "TvIMTNif08f95Eh/dO5b9w+5qsICx2boTcmc6ZsmgDrN9BwGr8qaIghPx5aWvdJqYFVeIzywapXK\n",
              "X23QLk3KDtV4M0lPRVkFDkf99Wna5G5tKM9x/QLFftPZ/DiKU+IaUIIT8EolgS0GSFlZo987QXP0\n",
              "T2ZTflQWuno1T7FyCmfG3IEQjWe9kEks5sRzKVEXN9gXiGGw+YOvUSjjOJIwSg98DmQ/pYPmMpK6\n",
              "mghEfGVW52sAxHucFiCynGmpuXVyQSuIHNbCbcnRBWGYqeQVbM00Tg9v9DbjXLoAPYObzIDVWO3l\n",
              "Q0YeCAwcLVIofQI1kfJLIva96ZI/CrgxdXOF5n+OHOcIAyrVFGQBHxP9uOxVksCa+a1wzYjcgfbI\n",
              "hQF8zJ7DlfXXHS1RbbBrhyd0BbScE2ahiokooguCBgrTwXhGKXUf/jjhHx6Q53i30yT6rpHwCXjJ\n",
              "jsJFtPwWZvVzK5CYlOXMmhLQ8bGfaldV9LHHPMR/1ndUNYh9SjuiUoPv2RYe9Lhh7BbISGmikyQp\n",
              "9Zt1QuX6V2P0hpGrtZjB3/Bh1eTJ20M9thjmtEp4dnZiuWBGMk53R622XUY+HwQgGqUAyPr1ClSm\n",
              "MzY2YAAbUAAAAO1BnoNFETwv/wAAB98i+Cjn6AFoG8/7Mjxr+w0mnOiEpdWoGXOwHJPlhtkBQ/Jw\n",
              "nhfwoWH+eLO1tOMWRfijFUpPBGW1IUYK6tyIKZzX2tVDmH2tM6nKRd3PH1S53mdxAxMDr9HX4CWH\n",
              "q9o4JepHtCmiDrOfpbHPa5ZicEGWwNjzevAUpt3imwo8tPG9ZmeWJkX7xOSCDJEszTCgd6EPvGX1\n",
              "t6m5CFoss5/zu5+m+R5u80c3B9LPXC/Owm5T1rwcQdz5frPgKQkMDY1EZGB/tSUk1WeEYEdEKX/c\n",
              "cuhmxifIWOFxtt4lvXfEKriGAkcAAAEOAZ6kakK/AAALFXuVHmqfuOG9YFagAdEqNssYNMHGNZ6d\n",
              "rt5/9Yj52aZ8IHQVTahb5GztKjOfPqrwfP39sObPTSqGc0O+ORXAZbU5217oA8AJ/9gH5gJYul/S\n",
              "fiRALJp3hjNpoA3AsxpNX65tqvY/RMhhjvgB7lI/1bJ0R/MvNgEPtXwCAaSK9bSMz9AvTHPkVKTw\n",
              "4cWkIFkxwSAmZqEIIQBlxPUGVp9Lu0hEAJ+hSHGaGDoBv0sT7weZfGxaPfd693wT86ET18Kj9tKh\n",
              "J/rN9ask39xzbs09HpWR7wYL+F2F+Ns+Rx3vX1mQd/wEeTdG5MITVVo4dNmEuIOZwD4KFOwi9m1e\n",
              "5hd1cvMVoAqZAAACoEGapkmoQWiZTAh///6plgAABoPdFc1TOPgAh/5vEqz2qhNbc7fMPuM2ROXY\n",
              "TSM7j0CZnP8Cc9sRwDkSts4S4x/FpKfERZhIyWjdtftLx1IMHEAuAkahjEePmafBx/L+CZNCFs7H\n",
              "E2KDkICqzvxC2aZC5/ax8qQM+xiOG9EDBNkJaXH8TLagEYbqS38HwlASymrUbYR7WqKX6RiqskOz\n",
              "Yn3VsS1bUQimy0S6mqQN5tyl8dNxlJrCw8YKNTcLGMJ3SKg5JfnnQxeE95XeHM8Bp9PbhoNVFRtL\n",
              "aPc1A7giyvo4eUHB6lis2uHrOY5Vp+G7mOBxaW7JcTrVUECyHCRpOISEwZPiQSFlIOA9kk77B3Oi\n",
              "JfWfBqVwsLipamWxU0ShInX7v6X+pxTJ4FJ2BBK7Ld1XYdrVzGHKqHi5j7BiPw7N5LskV/LYl0NX\n",
              "QCklPN7szIAp3ogOLOOCqq10AZpjPIhuP++du4VGOgfnrGR73EsnnRJ5OeUgcKZCeJHMouLPHDvf\n",
              "vc1JfzmeT7tnm4zMJKxGFv6crsAMMhdqYn0oAeAXRXv0I43+ysQNkabNoQHatuGJxmH5pQgEkASv\n",
              "+LD4CVNzqq30HFPPvj+u3rwe2zdJq7dzfoAUCPPw2+qcR25aBCbCUKUMHOAXgeLsodoQrgcQxKtB\n",
              "IavywDcopqw1i1FC//UF8/8T+OyfnIqn+ZPyBK2xuLBO7mBgpxHV+m3SYaJT4CU902qOwLqonJWY\n",
              "k77y4JN0PcPq7KgdvHiYVkheR5g1lTlmrFAxGgET3tVq65I9c8U5srSJ31u5GjlPrDsRVExm6fTk\n",
              "jCRSFoHPdi2X7gWfMdAi2zwEwgW6O71mszikc9b+ImTn38lPSqnKL2SKOYE446kj22B71CHxoADK\n",
              "gQAABAxBmspJ4QpSZTAh3/6plgAABx9E3oVo7wuNYa7BCR8djrcRJQppDXY3C+Gw+7mWj4bepABl\n",
              "rPf+QgLMEAifTj1qdXhfuCo95YUigBwwp9syeI9zOfrZ1ieXJ0temtHd97BS4/Xn0F5K2xPOkkrK\n",
              "bfW5E0jzdJtQRLu9cy2zZjcmLz6NKUaaaugpwYw+h0opvHOY0Gmq64nMiC0hhnFxxgFQAycDy/Ku\n",
              "JL8FDlja4iLfb9gEhD6MDAKprI4yIobSGQi2p9OvU9flX3tn8b4PVNbwqfqYwRM7Ag/F+j6+ZA+K\n",
              "LfPlKpKW+38FNFGSfo2RJ5iwoWsQ0wJ+7NYYO42l50oHVynPnqYlnCs3OE2iIrVLthcT3d19H3Aj\n",
              "8FRvfFzORCT31WE0QLrcrIJCctQgetdXa3d0EMusMZzE/yJU5h6ktZwE3aF9Nkc/sVcSLVg7Q40f\n",
              "0sORbKAZk50pwsKi6UWUy7qLRsAwIciPU3EYjH+LJoozDj+Ad3FESGdLRSIUK0+6+r1n1wLytNC8\n",
              "QiFNNaFof8ki6crDhTE3kQkllGpAxLHEp+g+aQVW78+nwYG/QYjloaAcom2cfYTg47pK/AAgXPT1\n",
              "gwGTGdxQDfAUE9xjK4+wPQwUeY83mEiTsfny5EsL9WXjILCOUmM/JMY3WxbfrYH2vOWbDiMYD9Gj\n",
              "aAHpeJvVAbdqCK0Oo8Evr+F1ZLecGoLZsoZV8ie+FaDgvcQ59m240ajm5yniUfJFK4o7xFxQzNCj\n",
              "rYzU8TlhIgWQfKU27JFONo11kIywWOf9kze9yNUjXHrgjA6Dj3t9jmqZCfoxIu74Yn++Dazwa2Yq\n",
              "mmOtBWAg91gAMwz+AXagJbGdqX3IRakGti2j/TVar5xZTvjSwI5dTybXetLrwkGPWBQKg/D5oTvx\n",
              "rgiOiceE6xHO2pw6+Vf8zwBwHevasAzjzw1JnjUVpiyvdsIjMBwM0hFneuB8eDAAG2ib52hx9BCX\n",
              "qRWaTPl9QMpUceuYrGzJR5BSwv4UaFRj6QRWI9smP6GjFdG+SDl7B5KIOdfacnzr45dgUz+xONi7\n",
              "TIOuVWkUOycTivUxSL3x4VYuPrw9WXp1sajjRc0pEvIr/YPBnZOQ+ukMgIDyMdchdpWEwttKgax6\n",
              "9Zfiu8g6/Pculfmdy4mSki6+aZTYAQ4PHEaBiAUlDl5Fcm46tt+BssmOSMxIQtV+nvsG9ECU/oZh\n",
              "qdR2otZkoEGxpDWRnoHznFgiHVVghYqJ5gaIx56jiRLiqWU3PajCoKoKTaZMm1Hod54gLDq6A1d0\n",
              "MtEmH5G1n4ZxX92Njg4pbVeuEWK6u4o2Gk1sS8ZCuIftnoc1lRpgNUIxdaL/QmvgQk5edhNZrlDw\n",
              "9/Y5MVbvXeIqT71lL3nBAAACKUGe6EU0TDP/AAAGSNZeGTRgIfSvP3LUoRX5IkN/T1AUwQkbzp1w\n",
              "+TRc34AJxwrUhGf8x+bt8KIEkGw3h/00TVbamBk1ZfKCATd3l/a59J+0vdE4OQfAD7q3ut47SkUY\n",
              "6GW01Q86xk9bHdRbHxhg3jtwItes9wpTZ1EUQW1uEosznXUyWc2i6lSXk9b4erbLH3eMM8X0xp4i\n",
              "7le2MBvkr+BzN7K/Ji4dEb1wdiroCHe25VT0EKjO8nqvtGU8vIrtQxpEl3b0o82EKkSJgSdLfZZI\n",
              "kqBYxCqrmwg9T+eod+mL4dkNNmfb9FkSaSnGnswYiQHYfcP6fyTSFvlhBO26mawsWHRIZJzsTv/T\n",
              "D4waCTbTsroDOZfgLvEaZ0W8ZR0BelnBaVuP5nO37cO/Ivz1blu3KZTUb/d8yi1AsDSENmavCHCj\n",
              "SGW8hrajTr0IN0Uv4lJD2IjTFPuptdRksf0MtYITkwGzS/0S1vPhl+eSdKyCcVtavgU+LQbj9QAD\n",
              "lxxinTqvB+stb/nF0adI8eADfoLoPk8yr1LWotwdfRslwBHKoiCcINDMN82svKI9sI+isvWazl+X\n",
              "vDzO3X+Sd5A+O9n098JoGM9aaPMtOUmhAsbcQFytivUAcSALgs0ac8/PK0puzAXr2zlkDcLQfVoB\n",
              "uS4neTSeZmO+f8f8A4YSTkBKztCSX8v8mcVyo8o3GUC3VozoLc170QgbWxOfGgsBTmBP8XIPmLAA\n",
              "MeAAAAFiAZ8HdEK/AAALXlAA3lM82agA+1KJzL2iv2ETYucasX/E5wG8ru2jjd7YVdELNnq97opa\n",
              "blJ2BgVosjdIbyh2WbCekJLqkydAUXWme0x0/8MH8WyE3HjQNB5aPWUBRg/V2YuiBCr6RERqZjkA\n",
              "50//tBPlPbO+Lm3jPtCJEBnBv/xRaXUXoMa90nSlmLvsPitjv9+VESbG5ts7Bpgfzc/k+655tmIC\n",
              "i2iFN1BhnAFBKNp3ZYheFydNw53Yp32IToz4D2WE0PQSADbklueofv4kW0OulAawmR3gv9MSePwG\n",
              "nRC7vaHzYio3AVgLS/G9+DM5mviMVuL8HR8LiJL6XEP5/vjUESuIJdj9CLKdgE/krksGO0ltUsk5\n",
              "y8nLdmjTfUEwHjbnjUB1j/2bYMr3a6iwpl8bt8kWLhoaibRrpgCvLq+S9gFYhBra8g/ZR7tHCNu0\n",
              "SxeMy/BgX4yae/U8BZTVAA2YAAABfgGfCWpCvwAAC6NE+NxedyTPwbr1kgpzTiDrWtRk+cg5Hu52\n",
              "41gQ7YDJqBEHxoKaRSrDUaqFXt4TpLOVDjIvgaGhDdZc2b+m9kmpddQAOxyY+90dun8FrMFy8Xrp\n",
              "MrEyHeUvMcOLL5DomJfSjTGwoZ9RRLd9CKKy/iN9MISlJVjAjZ46+d+F21A2Gfet2dadqSdjg5ky\n",
              "1EZkUqV2jz6NJbTQdyTduNPzwAzRigoKhsKYf+q5g/9ut2T41T51drdrudWH768lCxwti7vCKvsr\n",
              "PNLAFdvAwuVmE9x6OsQfMFt946WWIxL1jnBoztRtMyWIn3RJj9ZbGFGMCBi2tK5elNvjzwjaXcvh\n",
              "sCuf+j3RcaAtd/7gg2zuA40w+8SvCRuLNOUt0w4N5qLIuN3hlLg5GI84CLxyPqaJvy8/cHrAwJAF\n",
              "SOfONZ2VTKMbHIA/h/O/pCcksW1WnC0udsSRYhYatUocdukLJ/JUV2u0KxiA0l2t+oQuDlR7F7F4\n",
              "E5UAAoMAAAJFQZsOSahBaJlMCHf//qmWAAAHU2f7ZiPviADJaB/c5jfoUCGn0Cpm60NBt/m4O3XF\n",
              "0vY35lSwfxlQFutWQImVnyMY3LghKyV2I8JJ5K+Xf9pK05u9pANby5bR8j6aGdLRO7HiB5UHpUuf\n",
              "xyxLHLmu6nnUq/rti/K+ss+oGkVY3T4v7yv5D8N3uPmtXb2FKjFTU0GwSzlu0SS6PZkBNQHZjWyP\n",
              "qf1z19tOhvlKsBof2npjSNz3IZFkAJykIz8ztPqpLR8DKSE33LmYZNGvD6AMyHNOYsPX1rccDUj0\n",
              "WDZvZxcXNgDD2mO0EIhr0b4ypqH14sawIjSLmj8CBF/SNbqNT9MswcvY+mc7lWZEVqn0c5h3QVMw\n",
              "HsrW41J8UMwtdhk0fREIcBztuBahW0VEUW3yqdLoP/jSk8h5SRo90j1yGRFrKpZtVhXMueZzc5JR\n",
              "4Uk1eaZdjlHSujLRtoCsJ4/txz5IwYr4Z+Q8rscyxctvkCevwz2Zi+QMUHw1nWq6APcGU1rs94wU\n",
              "Gs1QxihveUDqCRq+QOQCRQwIXIcwXDWMfgfzfNE5zqyowdrh1P0/fYa4Ayx/CdrsWCGlL5s1Z7ZO\n",
              "xnAWqSt+sE7KVnFeVIEYws/8+cnWBF0VojAPGsSTZmgS2T4M9/566a6whG6HjzgXYeXpq3Nk6hd0\n",
              "A4LJc9Ua/NTKyoMOjlJcCdzWvE3ezTW8w1On6WjuHoimDloopRWiJjaM7/zLoQxsTk6fbc5znEbh\n",
              "ko4cJAoSb/LjCQ86HKqt6JCydM4AAAJAQZ8sRREsM/8AAAZw1mso5g6bZTF0kKg0cnE1bUAGU4Vp\n",
              "kEd/LKnFmC6Dr6aR9HS2MT1RMtdugXYmWCrPPvvz76/sGrT9+fatO0xTiquYjb3aVAuK7CMfaeS5\n",
              "iz2tXVaQj+iJ9MS3J+JwXbUdFjnuCOM1H2RDbj2EGIjCCU3nHsa/XWpkgvfiQRXWho9l0upHjimv\n",
              "SPLh/AT5yxQ34OvEtZOSWIgNxK0FsNSjyy+CZBHCLGrUzTjGWDnjA6Thaiy6BgujpopbZByEkqvL\n",
              "772o1g8jN0vBCBGb3k643PrWMzKnFVU/+bXOreQdBePeIQkI+AuRmUTk9XDmsjPbqivyzqHfgx9f\n",
              "zre2AF0Lsk3egUPx1ffdxb5fIkMlbdecvRoh9UT7jzgBZdWOPHaH1xGKrbYxpqQD4+cl8Zydh+HR\n",
              "kWPnlQ9SKDbMcJDJX47Kks/PEw5o1GzdBG06rxJRyo/DRKC/131yJwjFuAxc9Or9WYWQAzafB1gP\n",
              "JiGw2Vo5A10u6tYmgvKtQmWOUIPdlGlbZXehqfxe/Ah4hxMLigqS0/NP/GoUjKr3Y7JEz5O576nv\n",
              "1e+/Au3olzBXgdA4+Pkh5rRrIwUqsma5R/S3l8F/0pK5MwgbUZgF/2KlfqElZZO6Smv5SrkvObX8\n",
              "6gCG0OXX3Kdpc0j8I/P3D0WovYTBkxtprCrLa2HdSc+WQlStuBxGGVU0HsyXRizccWnPgiot1gZY\n",
              "CXh5PKz8JpH3DbK6+smtjqSdEZwCPVzj3vvqACggAAAB+AGfS3RCvwAACCuldbNKWtYvaQAlqSX/\n",
              "NzGtx3A925DpVX1uLnUxJ1cF3b2vMoGaypPS9wa/o2iL6jzFOPdL26f1LdqIWbdYb14969fwtNLZ\n",
              "9AzY9wg+1Wr1qGSr8tnNljQa4mzx8Akr+IjUj1fJ0M7wyddDEhNcb1C9Zz19DWnINrD1CYbXF8Fw\n",
              "Z13KBubadnoutzjIVF/cGRN8sXgIc2YQ2KkS3DSO8di2yutEU8/eVNQIMxToq//hBonM6NSpqFFH\n",
              "oNG08dzxjQlhP9qWovcgCyTgKvFR6+uzPiefxjBYHPO0KOg5JPp1G7K+M8O+DEvjUWry8NvkAvuK\n",
              "sNhqVVuL9sMhjL3bOQwJzJuvExJ2qXDr7LuyOO50F2llixGxEqxJiwZOCE6JT12eqlV9wzSaxGK7\n",
              "62fgi8pOUbjOy23r6tzEWm8dHWC3Iid1AMnhAu+sDZiI1mBfqDnz6hRGawuJA0d48LeTerqvZxUb\n",
              "kLD3acfa4RMbAe1UxvJlmNSwsaf4F5RiQqH3bHoSWGWGeaQbzVgvRO/3b/qfCZzKGjsXkHkMoULA\n",
              "pUrBgNzhZAIofCVn/4VbmPPsFkwLQlNHqlTuAwVD0jC4mm1RYQzYsue/spx7KnMSivt30hT5nSJu\n",
              "0XNdNmETACRW06VsiqrrUwqvdO4V78AK2QAAATsBn01qQr8AAAvw/N3jVYVX2yth272ELhREqxDr\n",
              "+qOZbjTB41r9L6NqWqbZdJrU3BjuQHPV4nJ77PddcHpehevyjgxAbMSFIzlig0S1MGc5dK4J0zW4\n",
              "AOxyY/fEfF9f+CoukD8DSPb59TAsI4eZzd9hBs3yG7149qcFKZGTJ8qySx0cfq49tc1VizQ610js\n",
              "4dPg1qfNWBNf8XmqVesKqdHwysJkNHBpFHTbjAWCnDeIK7MRmelHgIlOuXHkUuLUnokYheNA9Wxo\n",
              "yl7dl7hg5bqtDYLiUy3MXOAx+F2ZL3pYsdVKZGBXX62R1qbE90VE/78A8myl5ILYPw3NhFAZvFt7\n",
              "S/r/pME3L8NPiZXNKpSL5WA1LOzTQIKlFD0PLP1dw+0i10BfSkN/frhx3bdcD7XW9n4vqjywajAA\n",
              "AYsAAAEuQZtPSahBbJlMCHf//qmWAAAF4+BR83HlOfCrtJE39LAoBjsBnSC2F+j8w133s4iyniu/\n",
              "ptq4MUowL8XWfH9x2Ag+9Aj+ZUqX/MOMucrxa6twP4uNrPpxpn2lUH6xnk/9wbg3VNSe7nT25PJm\n",
              "GxqzGl2FFOEYOWb7i7OH4bYuBFaWdllDErHyo7wuj/25JeLqdSwDZC0adDIXk4Lxwo0InUmTxWL0\n",
              "cXuWyn6PIpiMwHOzfBMkgDC9t8Z/WrO9BUlcD3GcLutqG5Q1NhQXf37AdmrWtJlEHbGOk5gFec8U\n",
              "zK+qMrzuDN4X9pBu9gMkZcUPcRC+ykshRLTHCIldun2u4BylcfAU8n4sJycPkTunLSJo6bNdDNFI\n",
              "E87tbohm3D4wfS51+qsAnHHnk3+AAakAAAGXQZtySeEKUmUwIf/+qZYAAAd3RN6qxABu03TRe++J\n",
              "6olOjaZ011j2uzctj1kiYp6lOSR3EmZj3H1L/5jC3r+PySP+ApXAuUqbzUjFRC3VDSRLIuLNZlgY\n",
              "GguScnM2KwkiFScEWg+BJq+2Wz8wDhI0y9meTbPSIom2M8zRg75ifiRVB3/yJSBERZHxLArKpZZZ\n",
              "7AKQ3zxpqsr+QZNXAsPrE6hCmEGn84VGV6CsSBHNCFGznjwKVHPXAQcWotp+BuzKmH4ZHeB4fPa5\n",
              "X05fkQw795bFoFN6c2x/mAKCu+5tkMYf8rr7S2/UOYh6OdW27WVvjaWgUrAoioDZ7E9WtATDj827\n",
              "ICR9K9MMRO0mQZqkV3r1LPdKa4WzHOdX7UZTAFr+h8Zyw85KNtGz2GzcfnTbUYpj1kQX+vaQqv15\n",
              "DI6ztdbbOD0Sj556JLrca6EKQfcGrNr57mRxja4TYvCgHm8cj6QTVKNUDdvLRU63QxphgbJWRbZJ\n",
              "82nq3c12ryBaF9ALxX8I8O5N/nlUsGKkIYi65T18vsNgAl4AAAEdQZ+QRTRML/8AAAjucdN+/dCj\n",
              "OFGQ+PWti1kcBGABjpZPPQUDZiNlOS23yBNgY7fKk+0sMVkjP84xx4bR7CM5UFDukbon19e2ePrL\n",
              "+JYhZQsSk6f9+P4KzRJ7rEsxjV1rt/5QcRk4OAQnhxSDYpXhq9FkwFon+KfMAxVU2WKQho8pBPaI\n",
              "ixck89S5dZyNVWZKbZA6sMOv2s3fBiRvP1oct2Si9HR4+1OAAUHslM+trTokVM27MBCCN6bQ7k75\n",
              "OINeLmFNNk0BToYIO0ckTbuzswM6lz9BK1EfNmKZnQrEn4DzW2T3RWU/32gnYo+FnysJBn4f0+p1\n",
              "r5h6AW0BbFZe4el38XDioOi5caSEBv+54y74w0fgDG3wad5ugAFbAAAA0gGfsWpCvwAADED/jydw\n",
              "CxHAMudAATqtVpJ/qqnTKri2QhG2G3ObE1CurLQ+VvVMModoCdus1ne297SmF/rDYFg4fO2037O2\n",
              "UdC1zkFTIrMe9eFAnzXhEVkZJJ6HGls3oetfiEm5o6LXeCrC4D3sD5sdcK03advxOB+OnL/foDih\n",
              "u9XsIsFXlmEiAhEiaXlaC3a3CPqXMr1eGyceGM404FElsbQFd7vfNuj+0YI4bAdiQF04nQrjfnWc\n",
              "DarWIp1HYK0lqDJcMKkeUlWoOKWGkgAO6QAAAUpBm7ZJqEFomUwId//+qZYAAAWb4BzR13YXcKB+\n",
              "YAOPIQCUfplBOC97lFZC0PGO9IrGVODc+mRVEJwe+kC9veOPrjJtoC67sJXLF9J4t2dTbZ/5ZwzE\n",
              "5tRZZXatxBOLUwiAKC71222EzP/YJLPcmZa8eIXv70SPimfQ/Hb6ac//hEyDLmW7WrWh9GjkHURX\n",
              "5IgQSxOwSRItmDDm6nGgj5YgO4F7UvVQdGIk5xm7g8nEOP9MKiAfG/oH5I1g1TXeDqQzdI4W33m8\n",
              "9PF58EcdGpBeH+CHG9rZppyM0JWSzrW+jyuSsbMPawG4eYqW0UPEYBdKDg1+0Xzr60wLnVyihZLD\n",
              "vz/MOc0VKDarzAE8fyfVZkDlv6+geM0TKp0/2qySaE+pmrvAfKx/FjtCdXLwUni8knBAdqS/0MCw\n",
              "Qih9synkBXT7QJ3zATFpjigAAACsQZ/URREsM/8AAATWKoEUacmEibajt+moVztDpkXohlTouzl6\n",
              "IACHbgdpz6+4oiKOODVUwGqBm7p9QRrOxVsIsfAAvJ4fMqFP7hfFlpx8CPlPn+GF8ftNtGXLBXDC\n",
              "6mYr3ToCiYjbr64jDTChNTBm2+z+xWMKkw1uNccXBLz68UoRETcK0d5nM9RHGbq6qaHoLbklvQRW\n",
              "7yvV8MsKM2tWM4AnWN0/BKkX0ACJgAAAAIABn/N0Qr8AAAjrmyCOyVONlTBZwHjRVBUbkX7hWOMi\n",
              "LHzhQDTZZ5/Yf3gBCnbX2g/VlkzNLeaVfTj5KP6D9iRC02caUvjAb3aVPgk5qPJQ5QJLSugZBGUs\n",
              "tgwK84M/Q8OyX4qI3bpFDOXZJyHTSzLBP57cnhC7OvkH8LR/hgADFwAAALgBn/VqQr8AAAguwqNQ\n",
              "7FNF6iIHQBQJHQdfEmkMLZQZnSgAOz1+ffQt7tWp94swIZEjm/X+iwkGa9s7hPj3GrV5spK4jBmx\n",
              "HO7731SV1+XuL8OeeLudtNPOtY19AVRYHwzuz9n+68CfQkp9byLWY76ClfV2KKeRlrBDvHLdoKSL\n",
              "GQ/kAQ8mpYowZ3AB3APVeb87Sn1vEM1Aupfxa4IwuWY1V3uNZ55U1z2y+5vPIwK9guBQYs7gAEXA\n",
              "AAAAyUGb+kmoQWyZTAh3//6plgAAB3/bQh8JN12tNcB3yAxby/ll+gAKl82/h1uVjff66zSjeF8y\n",
              "kMQ/Z8ZcOTenjLxzpQrpeRkHC/kWv7zGjLJesq69Oeqb2ncSS3JcVAGyi+4pmojdLOpgBsxNioKN\n",
              "WqMv7w8i1dpXjlVD0t2/Ut2MN6yc+8AkOnwMaE9q144hcC++7qR2yruly2yTKTEsKSGsaZasAmpw\n",
              "RN9Smx9tFe0IcGB7YBTbzoFoXJoP/hgmG6ld3XaQosBdwQAAAPxBnhhFFSwz/wAABpfj6W1vcHRp\n",
              "tvZCBmABouP/+Hn+dQLQrc4wR0UQMl42iJaE6Ewf62erGi5MtEpuQUb19eTq6kakS5f4/i3OQ4X8\n",
              "TsTbKizysB/Trs7Q0wmXdmc1fBEq+EBF+e8WOxrVmSA8HDRx5/rqGKkujBwdjny1GNkc05/LoKGe\n",
              "Ekhk16oRRQOoXRyfAyjoNVs3wLyq/E/xoxTDF6rYDSUF+GVAEYAkf/6pqRCJXK0/foNTP+s+djq6\n",
              "3jZozEDl3vMBUOMOSI47oTNr7bLW7IHEo0PkU0wxAvXa5ytkvL8fRX0IvIlQW3VyFfCrHTM2zLot\n",
              "i+qAGzEAAADvAZ43dEK/AAAMP/ek4vBjCFIk+OH7tKGgywALpGL5MGwjuFYrrBpuH8/db8vWF8k0\n",
              "10LJ3BC/YCQ37rr5YYkJLfaNrU4cveigKlYdgjFM/Il58FX+vuC6Az+8esXbf/cNRejIXsfK3xVY\n",
              "rZBeVsb2p4wxzXTwXXY1oNp4341m3RcCULQF2dU3j8ErQQHK6+kxAeiUrsLtTxP4+ifS2K1Uaz6f\n",
              "esN+wN/gsb1oReyHbL4hjKxUmAVMP2G9aFcJPUgLcvzyF96x7P6Hj2C4LUUsklz4ZivMsnLFaPXM\n",
              "LS2CGEmLsy7P1+OF1IF3rZJABiwAAACVAZ45akK/AAAILsInSMEO5kv/pimrARTWADhyJMjdHRz3\n",
              "b8ya7t3CCMs/i5Tvct4yafJd9wXoO21II04L6YK0QG1DhxhAoliVxAlYdXZED+T49j3ThIdnjSbv\n",
              "Uxdjm0aeU9/naUcU9AorhRK9DJjX4HBGiLlyNsWYMaOo1mWFStJHS9dQL6ef70MR8gka5hfDAOQA\n",
              "m4EAAACbQZo8SahBbJlMFEw7//6plgAAAwFm4VCEA7oUAHxV6oVVjHr0oRBhFpCylNIACsvmzDjj\n",
              "//w+y26SB9JwJIxTbOPqHITG0U325v+mDjcrJ4yqBsBdE/M+uvkCY85l/LneuBsE3/0akehNSK+Z\n",
              "EB9xtlmistj54xupKFbSu67MpX38t0GaY6m9tjg6vSlHh8PB1nCbIHCzyezZQQ8AAABqAZ5bakK/\n",
              "AAAIMGdHdFBfZ1EF8MTm/Z75j+cRFKMCL4kqkzRH0JGDJ4/D8/3ntojaGJuYSiSVb2JyQADs/JT2\n",
              "Sjs9HPkUazLviuWfs+10UGqOIVv3sk3hOUxPD2U3diBUq76oCTq1sEAGZQAAAHNBml9J4QpSZTAh\n",
              "v/6nhAAAB5/ZN/zILYoB9rW3qq78pL8KItkOvG6W6JYACq2hpcIzpBrd1F1iOo3npEpQJxQlnUZ6\n",
              "x+0NHVHgEv7v/5/fv4R8YsvOsBOGzggNhLNSIOhGHlcM59uAEG5jv9ZlGFuE/7ChAAAAa0GefUU0\n",
              "TC//AAAGIcY/kaik4ocrw134ECQ9B06r8tuTXCWXhq03f3dAbFigtxABDe7RQF7wffTCvPqH/kth\n",
              "Zi5dgPmwzoDqECk6ocj135VHaA2pl1DoV4w8Vui/Z9+WhJ4cF1KjCcw0ABBwAAAAhgGenmpCvwAA\n",
              "CC7CKi2d0ABCV//w9Sx6gfYXSVehFB++LdBXRc6SvaBuc6i31/kNLXcPCVKoVK2q8JU9gBP2w5i3\n",
              "9KqCOVlm6rTuZBjbrAAtqvXpxdTwfSS0cX1UaowLtnGLH1bBLc0aAJ6u07c/47g1+W2iLv5QU00k\n",
              "OLgzw8iQPUlgAFJAAAAAlEGagEmoQWiZTAh3//6plgAAAwO/7ZhdPhkVWy6ACXGvAIGpVTa8bK6b\n",
              "mICgqsptZGYbqJEe6fGW0NUuESbNNGX5uxwVo5q7zQxuKFfGz7wtg7jwZl+fLQHktOxndhz+aJ5X\n",
              "asAS7oemv0UiWBhj0o/Uf+2y0FIq9ke5BBCRLQOws9YYf6QYQWq6uspUAHJvn9QgDakAAAD3QZqh\n",
              "SeEKUmUwIf/+qZYAAAMDqcX7vF93MBx8yrif+35a3BMQ2MAHZTXf+/wIkwpRBcr9wBUBFHwb3WFH\n",
              "JeyqIluGTdC4gnO43/8BnIsf1yUe7pDKCz5s++3iboRcRgvCysrTyBkCgeCpzqFxb7FUP98/vSJV\n",
              "OZw7d3US/VPWXsg2YQ7ftwAvJbiISfX89g1hwQER5Q6LikyXncft7dD/9xN3FRZh3wRSR3YvOfTI\n",
              "TxRLQAqYKqEgZC/7R5JN7cDkyKnPNEMdmUjfP5gevkHJ02uufUTEl0mXtgOpPKLfkp3KdJVtMqmZ\n",
              "nbLiPSvFnB5iTQqY8xwJWAAAAMJBmsVJ4Q6JlMCHf/6plgAAAwOOObsBTDlVQylOvf+tD7uoAMuw\n",
              "2f5wAY/H+v8ypX0jKdiiGnNQrLtGLGA1YB2n2rghkIpdiUoJwJR3u8Kq1u6VI0KKm8+vB6OTJ1GI\n",
              "oOwAMtgbY2bR4gk6j0MNeAzc0DJ6U68m1K6IECBiAi57i9Rl+ot5Im8rBstAY9k4iEQOWdl6Jid1\n",
              "gE79u46QVowHol9N/AdgNMKa58XIjJAJtDilhCGrIPCj17gI/6fWV6kDqwAAAJ5BnuNFETwz/wAA\n",
              "BHcg3b0szb9QFhkaRidfwSwOk9uFLDw8RigkAFqYBXxQW94g2mygr4kSkfJLHBb2zluQF+oRjNYf\n",
              "dNfTRQ1D9TuqE31LWOamJVdx8koh6mBcOIkbMomjBVWscFW36VApl0aIZieAwgZtWJYv7a9n28b0\n",
              "R7rBs/eSujLxQvzBrbm5a/9+PPBfw/kNbtYGne1NXACtgAAAAFgBnwJ0Qr8AAAgro9DlB6qdC6vu\n",
              "wVd+Gp4NkfmkQ1TfVhUH9+t+HGUC5dHZwNvvW4AL0Z03jjt1UYwyUnvyms1vGfvN0D+jurKwKlSV\n",
              "rvuBGo0qPtJNAA/JAAAAYwGfBGpCvwAACC7B9BYxQc4x3upX421umJep3aAaGjCiADfOsGKrVDKA\n",
              "kKul8S30LwcqKV/PSr+TIIXjf//BUiF9kokrNokfA99HvDJEJXQmfll+9EqihiXuuJRiq2q9CxAB\n",
              "EwAAAFxBmwlJqEFomUwId//+qZYAAAMDk+2gXwUOWKzu8QQ8AAVHVYBA1okKDyrI/ecCHSDTkXcM\n",
              "LbZt3NJiCN0ts6h7+IN47Vzyo8d+YrPEx5eg9HkbkauDgmtyEqCZgQAAAFdBnydFESwz/wAABHde\n",
              "D1x8tWjM9IvpeH9E2HQBuHqSnuBu6qzAAushV+lhb3g8BUyJIVRUVZHHuFOZ+bv+kvncg61tJ5KU\n",
              "cdX1cTIkj2NvJwVoUDAAtoEAAABAAZ9GdEK/AAAIK6PQ7ZYIcrSW8g8r3qBaZACVGBh86woaccoQ\n",
              "187dXvJIuSJ+LndUlCcQ2WYStYBI6xH8VbABWwAAAC0Bn0hqQr8AAAguwfQVPrP3JHSjFjiYHnuG\n",
              "W9ZnBVShZhi1mdjFhONDKoAAKCAAAAAlQZtNSahBbJlMCHf//qmWAAADAUL5SCmeuNJZVd+oiCot\n",
              "bQAVMQAAADJBn2tFFSwz/wAABHdeD1x8tRC8jCP9q0E/+zhlGLyioAZAKp87gyZHBIDrHQlZwAB0\n",
              "wAAAAEwBn4p0Qr8AAAgro9DlB6qT2VkQAOrrv8ieteOD/wVNeClSKsNEuJxfaLtvSHLzLVTgT4RK\n",
              "Cnu2pn8QbjCS0E4ttXy+lVaA2fpYAA2YAAAAJQGfjGpCvwAACC7B9A8622h63GtvswotaEnNXAck\n",
              "PLMaz4AAqYEAAAAYQZuRSahBbJlMCGf//p4QAAADAAADAAFbAAAALUGfr0UVLDP/AAAEd14PXHy1\n",
              "ELyMGICsX6FGCGxRXY4DsA6fBKCxunjcwAAZ8QAAACQBn850Qr8AAAgro9DlB6qMzPCVnweD7YJ7\n",
              "2AbWdaphXYAAF3AAAAAlAZ/QakK/AAAILsH0DzrbaHrca2+zCi1oSc1cByQ8sxrPgACpgAAAABhB\n",
              "m9JJqEFsmUwIV//+OEAAAAMAAAMABU0AAAVmbW9vdgAAAGxtdmhkAAAAAAAAAAAAAAAAAAAD6AAA\n",
              "CfYAAQAAAQAAAAAAAAAAAAAAAAEAAAAAAAAAAAAAAAAAAAABAAAAAAAAAAAAAAAAAABAAAAAAAAA\n",
              "AAAAAAAAAAAAAAAAAAAAAAAAAAAAAAAAAgAABJB0cmFrAAAAXHRraGQAAAADAAAAAAAAAAAAAAAB\n",
              "AAAAAAAACfYAAAAAAAAAAAAAAAAAAAAAAAEAAAAAAAAAAAAAAAAAAAABAAAAAAAAAAAAAAAAAABA\n",
              "AAAAAoAAAAHgAAAAAAAkZWR0cwAAABxlbHN0AAAAAAAAAAEAAAn2AAAEAAABAAAAAAQIbWRpYQAA\n",
              "ACBtZGhkAAAAAAAAAAAAAAAAAAAoAAAAZgBVxAAAAAAALWhkbHIAAAAAAAAAAHZpZGUAAAAAAAAA\n",
              "AAAAAABWaWRlb0hhbmRsZXIAAAADs21pbmYAAAAUdm1oZAAAAAEAAAAAAAAAAAAAACRkaW5mAAAA\n",
              "HGRyZWYAAAAAAAAAAQAAAAx1cmwgAAAAAQAAA3NzdGJsAAAAt3N0c2QAAAAAAAAAAQAAAKdhdmMx\n",
              "AAAAAAAAAAEAAAAAAAAAAAAAAAAAAAAAAoAB4ABIAAAASAAAAAAAAAABAAAAAAAAAAAAAAAAAAAA\n",
              "AAAAAAAAAAAAAAAAAAAAAAAAGP//AAAANWF2Y0MBZAAe/+EAGGdkAB6s2UCgPaEAAAMAAQAAAwAo\n",
              "DxYtlgEABmjr48siwP34+AAAAAAcdXVpZGtoQPJfJE/FujmlG88DI/MAAAAAAAAAGHN0dHMAAAAA\n",
              "AAAAAQAAADMAAAIAAAAAFHN0c3MAAAAAAAAAAQAAAAEAAAF4Y3R0cwAAAAAAAAAtAAAAAwAABAAA\n",
              "AAABAAAIAAAAAAIAAAIAAAAAAQAABAAAAAABAAAKAAAAAAEAAAQAAAAAAQAAAAAAAAABAAACAAAA\n",
              "AAEAAAoAAAAAAQAABAAAAAABAAAAAAAAAAEAAAIAAAAAAQAABAAAAAABAAAIAAAAAAIAAAIAAAAA\n",
              "AQAACgAAAAABAAAEAAAAAAEAAAAAAAAAAQAAAgAAAAABAAAKAAAAAAEAAAQAAAAAAQAAAAAAAAAB\n",
              "AAACAAAAAAEAAAYAAAAAAQAAAgAAAAABAAAIAAAAAAIAAAIAAAAAAgAABAAAAAABAAAKAAAAAAEA\n",
              "AAQAAAAAAQAAAAAAAAABAAACAAAAAAEAAAoAAAAAAQAABAAAAAABAAAAAAAAAAEAAAIAAAAAAQAA\n",
              "CgAAAAABAAAEAAAAAAEAAAAAAAAAAQAAAgAAAAABAAAKAAAAAAEAAAQAAAAAAQAAAAAAAAABAAAC\n",
              "AAAAAAEAAAQAAAAAHHN0c2MAAAAAAAAAAQAAAAEAAAAzAAAAAQAAAOBzdHN6AAAAAAAAAAAAAAAz\n",
              "AAAE5QAAAO4AAAFIAAAD3gAAAPEAAAESAAACpAAABBAAAAItAAABZgAAAYIAAAJJAAACRAAAAfwA\n",
              "AAE/AAABMgAAAZsAAAEhAAAA1gAAAU4AAACwAAAAhAAAALwAAADNAAABAAAAAPMAAACZAAAAnwAA\n",
              "AG4AAAB3AAAAbwAAAIoAAACYAAAA+wAAAMYAAACiAAAAXAAAAGcAAABgAAAAWwAAAEQAAAAxAAAA\n",
              "KQAAADYAAABQAAAAKQAAABwAAAAxAAAAKAAAACkAAAAcAAAAFHN0Y28AAAAAAAAAAQAAADAAAABi\n",
              "dWR0YQAAAFptZXRhAAAAAAAAACFoZGxyAAAAAAAAAABtZGlyYXBwbAAAAAAAAAAAAAAAAC1pbHN0\n",
              "AAAAJal0b28AAAAdZGF0YQAAAAEAAAAATGF2ZjU4Ljc2LjEwMA==\n",
              "\">\n",
              "  Your browser does not support the video tag.\n",
              "</video>"
            ]
          },
          "metadata": {},
          "execution_count": 25
        }
      ]
    },
    {
      "cell_type": "markdown",
      "source": [
        "Using periodic boundary condition"
      ],
      "metadata": {
        "id": "Y-dXw6dBFjFi"
      }
    },
    {
      "cell_type": "code",
      "source": [
        "m = 15\n",
        "n = 50\n",
        "t = 50\n",
        "# influenced = np.array([[2, 4], [2, 5], [4, 4], [7, 10], [4, 10], [9, 25]])\n",
        "influenced = generate_random_matrix(10, m, n)\n",
        "grids, change = interactionSim(m, n, influenced, t, periodicLat, 0.125)\n",
        "\n",
        "animate_simulation(grids, t)"
      ],
      "metadata": {
        "colab": {
          "base_uri": "https://localhost:8080/",
          "height": 669
        },
        "id": "NYl9ORU2FiA1",
        "outputId": "82d258c9-c194-4781-ccf1-f9fc2c1ae29c"
      },
      "execution_count": null,
      "outputs": [
        {
          "output_type": "display_data",
          "data": {
            "text/plain": [
              "<Figure size 640x480 with 1 Axes>"
            ],
            "image/png": "[encoded data removed]"
          },
          "metadata": {}
        },
        {
          "output_type": "execute_result",
          "data": {
            "text/plain": [
              "<IPython.core.display.HTML object>"
            ],
            "text/html": [
              "<video width=\"640\" height=\"480\" controls autoplay loop>\n",
              "  <source type=\"video/mp4\" src=\"data:video/mp4;base64,AAAAIGZ0eXBNNFYgAAACAE00ViBpc29taXNvMmF2YzEAAAAIZnJlZQAANPJtZGF0AAACrgYF//+q\n",
              "3EXpvebZSLeWLNgg2SPu73gyNjQgLSBjb3JlIDE2MyByMzA2MCA1ZGI2YWE2IC0gSC4yNjQvTVBF\n",
              "Ry00IEFWQyBjb2RlYyAtIENvcHlsZWZ0IDIwMDMtMjAyMSAtIGh0dHA6Ly93d3cudmlkZW9sYW4u\n",
              "b3JnL3gyNjQuaHRtbCAtIG9wdGlvbnM6IGNhYmFjPTEgcmVmPTMgZGVibG9jaz0xOjA6MCBhbmFs\n",
              "eXNlPTB4MzoweDExMyBtZT1oZXggc3VibWU9NyBwc3k9MSBwc3lfcmQ9MS4wMDowLjAwIG1peGVk\n",
              "X3JlZj0xIG1lX3JhbmdlPTE2IGNocm9tYV9tZT0xIHRyZWxsaXM9MSA4eDhkY3Q9MSBjcW09MCBk\n",
              "ZWFkem9uZT0yMSwxMSBmYXN0X3Bza2lwPTEgY2hyb21hX3FwX29mZnNldD0tMiB0aHJlYWRzPTMg\n",
              "bG9va2FoZWFkX3RocmVhZHM9MSBzbGljZWRfdGhyZWFkcz0wIG5yPTAgZGVjaW1hdGU9MSBpbnRl\n",
              "cmxhY2VkPTAgYmx1cmF5X2NvbXBhdD0wIGNvbnN0cmFpbmVkX2ludHJhPTAgYmZyYW1lcz0zIGJf\n",
              "cHlyYW1pZD0yIGJfYWRhcHQ9MSBiX2JpYXM9MCBkaXJlY3Q9MSB3ZWlnaHRiPTEgb3Blbl9nb3A9\n",
              "MCB3ZWlnaHRwPTIga2V5aW50PTI1MCBrZXlpbnRfbWluPTIwIHNjZW5lY3V0PTQwIGludHJhX3Jl\n",
              "ZnJlc2g9MCByY19sb29rYWhlYWQ9NDAgcmM9Y3JmIG1idHJlZT0xIGNyZj0yMy4wIHFjb21wPTAu\n",
              "NjAgcXBtaW49MCBxcG1heD02OSBxcHN0ZXA9NCBpcF9yYXRpbz0xLjQwIGFxPTE6MS4wMACAAAAC\n",
              "OmWIhAA7//73Tr8Cm0WXagOSVwr2yqQmWblSawHypgAAAwAAAwAAAwCQhHHua5XJPWaAAAAvYAjY\n",
              "MmHIFEEXEIEgnhV26XASjxPiLOrqBbUgHwFxwbJ2mk2gJMQMGV7Ky3cCDX/BBbRntmfcSYm2VFH+\n",
              "kCBuAu4AjVJyu38h1H74tus3txXzno2lYDPR1ZP00XdKI1+pqHLy1MDM0JhTsjtFMcc8GwLmi4+D\n",
              "4IttuBPAtSjgEIOdUI/OI//7x2z6N5t15IIzQ1LbAq7Wb2elqBYJLJPrFtONpeqhyXov6wvlWE0N\n",
              "IXYSbxAwMUnyQQrsdBLk6XC77IzrDK2ZvGx4qXIITcBaWdmfvGBT8MlnOPbQv/ohVuiEwRXVM7kp\n",
              "XWEVACranrUwp6f6zREVb69DKiVsgzylfLPIjYMl7HXAwQn4IzxiZ1arbqPdHvO478lcSPRoRY9d\n",
              "BDhfQalxAac5yP2Yi1NJX85Ig/J0LVL7CSNJunXbIBYRHg7OQ0BDnFYaNosa6y4SSJdATrbE9O24\n",
              "vejW101GnRJCTrcEoCF9yHXyLYyNhtH5WMo+7U/y6lKxA07rCn8x3vC0C16C+Eb9Fts087rX0t3m\n",
              "gBUBLSUQtRMirZfIzcndvYPGOd4GxLqY1rcb6LzXtfjDPJbXYSz1IAmiFKc/4dS//o9/VdQy1W+l\n",
              "1aYO8z4YEpf0ojFc4+SvHYauUzI/8Sp00ACWkHbwEEsOkAGIV/rAAAADAAADAAADAAADAAADAAD5\n",
              "gQAAAZlBmiJsQ//+qZYAAAZbZ/2wHc5wABoMuH+4xVHU/EHO0bIgO49CkM9Zv2OQlMoaFsO0c/KA\n",
              "dIqxhxkwzks+G+6Tg6iALMuqmCskobl+vCLBPCN2CA47w+tSYiEmO4Foz+sMYFn0YekR3ohU1Le+\n",
              "CvsdJCE8ZXdtiByJLNQXuCIpFPoDS6F5mv9H+QJyXBzDtL2cyy3QvM2d0u1uTzXX7D0dcsKkLBAI\n",
              "HCytr7SA20HVECrttm7A4MI0OUdwlILu8wP0QXqJg4nMuOy8cHtb09WFcB5DiZlVWXy25KG0JqMZ\n",
              "mHrw0aWLpmMQD/Fm5CVJseotVsHTZ1yCIq0OpSwA3SXI9MievYtVSv8r8n9HHh/AjJmmgL7YvN8t\n",
              "rw1tEZAXevKm3fiMD6/VF0U5Qloj8K/0xKEprQ+NduaPX9BwkM+vE3sD5jm6Xt4k+hY626lGRJmf\n",
              "MijAsv3ezbqSVz1ScRweDJIiwkPBiBddYKUc6XRkbQpQX6G/B0gdmzRW6fULGi0JhhwFIsLOafpl\n",
              "lZGtOg8dUiMrcppAABnwAAAAgQGeQXkK/wAACj5DKF+SZLUgwbG3Zwc8YADqk2faQt7fjZ7XK0qq\n",
              "n5qCdufzjkbJN4WXwM4Y2oBedwT0Ql57MQPDfmsQOsWx8EWwXLxG6cA+/6O1rk3hh4SPrXwFvQPI\n",
              "O1FIkraD/JD/nRabpOrfr158Rf0NVXGvRD2/+wIoh/gCmwAABnFBmkY8IZMphD///qmWAAAGpKIe\n",
              "qsQAV9FoCe/xCdhpEPTYEi34O8rvHmndJg2BOv+LlEpvd0S/Cu/ODAiyXTayysfTJTSKz6FhacD+\n",
              "rLn80G/z3n3dpfJDPMxerfc1cO/wjblAnsv+vunbrFZMJV1Lvo3zLEGiTzVq3LpBBCq7FBWrEmRn\n",
              "G1yE0G3N1TKGTW9KG8snNSoe2J9QFLbXExJAALcV3jDyrRUWObEBFWwjIz3wXe9IUdAVQ5/sdLpr\n",
              "pFAFzdVXDopX4Dbtyyc7uoJrpUKeLwCc5u7JBkA3Q4RD2RQ4FZRyG0T0eeUFF03KLGdJ5UeVnw5O\n",
              "NuWmv47RMWNk+VdczAUTBx5zKY+FrPkHBYAzkDIVdwhy4cLaIpt9BRPqR+MiNs3x/c7QJUgauo1t\n",
              "XNxi8Ow0xPdflifqtzwcZSwlCAHzAadrQQT4XIgt+0utX7V1Uf2WdGQ5xxl/ac5Aqb53DaGcDW12\n",
              "bXZnwtNlSB+YnTKvrZjCJatQyXJfozeqfaXHMwt/nUDV6Rn56HJ9YTmRjpOxMUkqST9BHZG5+Y7W\n",
              "ohgKeoa46xJXeCXyhMyj6cD0Y/Uq8l2nRYZhM3tCb7+OwLz+iKKKJrPct9HJ7ME+3Hh54jpXkY4U\n",
              "Ra4ZoGO2fUkiB0vZL134+CQvzXrp5ywqLVRutupsjCAuRDmY9nfBTeMG0ibDcmQvlgwhk+oSiyzh\n",
              "oeGueNmm3tLGx66aW5DVh94YODg0bZP4OmvhYAj9mN7woGwAvY2zunueiB7cFZtzuPpagoYccpoV\n",
              "fI/pTKpwCmLGs4ZoqdEmGbZWTpRJw2bebjfGzf5mVIagK0rZQeePPZ4DdgDZ6JgVKNKou+VcopYy\n",
              "z94cv4RAKZ4a4bAhBYzOQlhL7tkSZsx+0VNj9uIuK19q34zAfhkf4QbmJwQom28vRD/GFvb+j7fk\n",
              "KI5XrLmq1+e2c+6HoD9YMu3tVQHvykym+YbeYsbgRHplNHOLjrL0wkDgkhWq0b/Ga/Q850zdEpDM\n",
              "iI1wOGUHvA3rObR9PKWAFhGWmFieUd/BsjFsWxjFjOXDtEAImEVpoOXiOSfECnr5INC7sJTqHj9A\n",
              "m/rmwGadurif1rV6Qv6RtE3sxTJ23+qhAQZr7paRR2cE8Bz4+hPZnGWINj9A77Oa4JuW7KH0r5sv\n",
              "0R4yPDLi5+FtiCUgGNK5T6aqeaOxqXSZ4+Q+zPQUYhH2Ad2XZJ4z1WYZ+kqocCTD++Oc2QdorzEz\n",
              "pNVR6UToEfUxsVaeKihMWig53E3iEcai1DLQqXYFivNYMPFN7/vWHQJerVQNeR1AClgOSqJ0HNSZ\n",
              "eiWM86tc8Dsin7fCh23kKz53i/1xH8wE49Nm+dCWkWgAeDvOIoiV23lOpRhn69GQzNcu4Q7NROAI\n",
              "UoFAaywqPSZZLVG+AijdyUgcZTntiLJgl93FGLTF3XKMLWaZYMofkLlOUoD2fZl8JTiAT4x9cbQN\n",
              "HxaSqMy7mn5t/1XqUoQwIC09nC8gCMIIk0R2eLNHXO3ZvqHRR7nuTN+IkksxCwa3IK+wCCJ2eb7I\n",
              "aa6BWMdRZyE3ccefzL0HXUG5UVyRHuenL2tfysxcr2oDOB9Pki30Gs1XnjUrSEpHLb97i5Cmp0QA\n",
              "QN6GiMGN+m6rESkD4gnf0JA8c9D0mpBqknnMMdncvAfq0cATXBHOCyiWaHqo+KC7ZWwUw2gyuYhU\n",
              "tbJHoOxAyp07mkKnpdKKIwTEGDulDQveVpG52iyT/WEc6CZq5BGynJEAFiXR66tk/7qXDO3IYxOt\n",
              "iVaPwJRsrrUTzXVnBOigOsCv4IDxIxNHJelne0x+xPY0amfDYFbuXO325STPmJTKc/xFmlk2TRz4\n",
              "UA+ysRtwmXkZ2Y7VEPjbQI8fw0/Rj+9XMtqOp3y8W0ZTz67qJz6+NZN0jll0Mjj4A5wCxwdZZuFX\n",
              "qx/08pc7E1MrTJki1UnbhZc+VxAnAKkyoLaaQO8TCKvuEz/yw3/yVkQpbRunUTO92WOBC9VY0hRg\n",
              "7BrMTQoAVkPAAXMq7FTgGJYcqw0PGh3jVu+ZGouiEHKeUskwO030uTsbEM464Xloitj4P+FFVg1B\n",
              "WQ1MXcPfFLYV2/jSlamO4t7K7RZEy80huTjbgIuf2kZc18acGAWyYqECiq/ePGTlye7NOTcadwKw\n",
              "FeREYqzAOsHMf0T/cfnwtYwbFYpmCRFAjFfJlfTXi7bDQAAAAwtBnmRqU8M/AAAF0gIlQNDEAH35\n",
              "Y0cP/q299fYnmZPx1aG3xU7wYg2Q/rSWLVK5RKaK/qeEBRt6Lj+4SQhy6/MvM/Bf6W9LRRJO07BS\n",
              "KEK8dbeXeQzWGXipQ9Cl0dM9JYx6yfIw46VTpsrAVvMqV3/P2/uqk4yiocBIOxU3NszLJCtDnLad\n",
              "8GGrWEe1WIYjfCSVpJrVDaLzTe1hOU7w0Qq8ooIby/jDqS2/HEReP+Y36X3921eBAjqCstR4nm06\n",
              "lcV+KwkeUBZ1Bx+wjDyQzgbY4M5uG0Ve6pDmcEL9zdN8qPSdpNYl9krtFDstEo/J4DqZvQOVs8xG\n",
              "8wQeCwwExUisiOSwL5Ee/hCl3kN+gPQz9F6YSrokERRinmegVXls6uGZI8mJcIGFN9SNoQcm8O1g\n",
              "ZMjjG7o/VHsdmAIKT7CbWuijJlUtyzx0XOR61n6iOBgvJiiMiQltZ38k1dXhJ8/nI/etk2E5Epmc\n",
              "4qnq2lKagoqZUIepUdci/B4cPT7DsiJzTcgD1MsuE462CeWfDzeElUdBMssJpd9mFWZ5TaxgLRjj\n",
              "kDIwONVsNpoBepKUUl9vY7NdVsDHMBTxrhnpnxHO18HwULr7gr4b3ypnITHJ2vTuZLkHR65XKrs1\n",
              "Tky/USPKWEf35hO4vKFIoSX9ICkuWUXgA3dje5H/vcpQPpeR2uq8dJdVYmGRz9Z+67qO91qOIEIF\n",
              "uhdvKmDJYe4p2vYIOEEYtw8QCNMoczoiLOvTKKOtky+Cz8OtgGa+9rOBfKWxsAEWvgtURvR5lnQI\n",
              "159uh6Lkmjssx4OwPD4GUQ0HVLX063HgdhNe4she11F3ekUd+OqsEzGWXt5XN/8JZiOyN9OIQ07e\n",
              "Z4TRXk5WvRkyGX0ZCC7kNOz6WW7MnCNzCzRBGXkFP0v/Zsp1eXs16tlhZ7T3chN2jVR0ws3S8rCE\n",
              "XREf/LAbVTE+2Bvztt8KO/+cZ2B7DhNh9a0ayExKZF8VioZqoprMrF7O3oqu3m+I4mqdeiQl4Rpx\n",
              "AfmyGD0L39u3aPWWbXhwgAA7oQAAARwBnoN0Qr8AAAqCZ2EZSbexOjpEKigTTABM4VDzzhNfVeKM\n",
              "BvR9XL4wIixFQ//7wIIyXOU2ALWgJ6YeMXyki1IkKfnM4QVTnu1/5N/TW+N/XOq2WhorA9zYTRIs\n",
              "UQhnRSJAkDA35T2cgXf0y2n+fTJmY0z3ZySTwk3HNg5gNJUYimIj3ZPg+X8Vy5t77qC9tSKW6lyH\n",
              "PshFE1p+nx9JkyWCz/FLKkTOVrX+FEOPeqxcX1pCU3DYuH8jI9egCpRGWOhqwGd8o6UoErYYv2wE\n",
              "s08fwNESrSoSrQs/eMjmOj2SmhVaW9RYcH6rJgrabcxWql4S6MFBMOLYYfD4EncWJewdg+THB89O\n",
              "EphKEy3xe02W3F5/zEyFdXWsqEAKGQAAAhMBnoVqQr8AAArNdzqwv6nEFLEAFBwMz9qmsRFTAAc+\n",
              "Khz2v70DWd7b3tKYX1h5bxIny46P1ptiPK/h/ffmzIkXXJYBsreKKQfhiScn3q4d8PT+7PK+rpXI\n",
              "KYimTveS0eWojWyLRDNuKD8oo5pj7NARe8K23Xlr29k/WK0wA071+XZRI3zgFoCUWLwtd+kOepob\n",
              "wsqZPEBISxc38eOiTusJGh2drGTHFFO/yp1ofhFJbMdkZ+Tm/VTOu/yMT1gTnia7fADqa8QJ0D1D\n",
              "Yhoj/E0U49+LXAF0vlO5lWykwP8G56He5M83i0RHCANmXBemg2QzME3b6Zxzby1JSGxOeMaBgRm+\n",
              "jss3fYmkxCv/5Ljv1gyv9iXb3DR+8e83W+M3+Eqaef+nat5NaVDJL6QBY/1aHhGTznQvOQPnX6vq\n",
              "llnG1DWWjgqngXd5//T9TtPr4fricfZH9asNNpdR4EoRDEHKqGHJunxwPNrjVwrvTLrX/B3AbNEz\n",
              "dj0nswC4+2ht0BbQ6ZhqwgvACPQ3Q57O/piZUkutDj513egbxtP1Wl3J0KTOHcrXoJ3YnbD9ovvL\n",
              "Tw4mHtSCCsllk+aP9fhA5rEK4dl8nySlLsjGIF8XEHA7KeiSjrlr2NxFZkru02wlp4seYN2c3ypo\n",
              "P4sfcYTB9H0RJVgdxFn8O0vUxwJrKuTkQYO9rz3iHRs5Pwz0j4UTjYiAAj8AAAWbQZqKSahBaJlM\n",
              "CH///qmWAAAHdJm66ePneV+Q+IAJ6zdNF75pOyAA/c2ov1rxvBZpf9fjY3XytM1ePo5qCJKi8xFe\n",
              "wbggsr4Mo+sWbnEsmXNm4w7vOjC01d4KUn1OSP8ExaEjXP8QLnQR6cQVXUUpaeRgRoBJmlq5v+AI\n",
              "FJuYIGpLD4PPbCtj3r+7QFeOUpUlE+hhTWUCY5coWVyc95ZVHR5EFKsmuUs8Z/BymRV39sQGOA/j\n",
              "SxN/AAA8BcqOp5caAnF+mzEG9ouO3rIUMMLVbIKJPEtEPhLXQVI/DG1eqYpn+Af1ZDulLJDgPcbe\n",
              "moy3/po2nZcqt1rWuWuGTYWZZD06wVrMfPsL7cJ7V/8zQtBVdL6GCJr2VHNFpf8BPd3uOgnTQNjD\n",
              "qQgz/FUIN3LUKiMRJG/DkxQwbPh5d+xf9heD8nw5jk0l/kSdnobK8IsrEWuHwL7wxUSae1RH/KMU\n",
              "wAwcKiss59msOEf596bWHGYtMlUP/awR/S01oq39FzromapTb9VTcZwSSBjw2vCAHDiputEJH750\n",
              "ZJB6Kn0/yEUWyenj2VXdCyWlFLaH2DgAnl2Ph8l8Kdo2rFM7jR79ypunDNdKdaBuYTqyUBrOceZL\n",
              "T6hvBnnGAQEGPT/uIqwuzqpu6xSmT3pZn9n3ckL4M7o4yE61fgxMMH8iKzoGoz5IpGAAqiwZcBpW\n",
              "h7SK2yCaSVXXR2vAk9B7GiXZCURqdLM3SE+QNo5aHsW9NFxjBzDSroNOaxqoT2VcfSt+9r0jC0be\n",
              "x4B1mO63fRFRwgqiocE48dfDCjzmvgr2NNQPR3yvatOcYYwLmr1ds99VuyaQEq966AWuiBdft6AO\n",
              "fI1IeRYT/ky9tETpzBq1hsQypUOVPsLSviad/vvColONVKhXb93R4fP6Pagi9DlM8Ir5rdvHHOY/\n",
              "YT5g1UgfJenyOveW+ByfMduCjhle49oL6dtAqI2U8gKexj6BGGwtuefTvNlBElWTw0hwenoaM+3c\n",
              "iNtIKWphCG7Qb3VdJpcSh23hJFZOp2rMyAtXhZzgYelfkSMipQVyINnvEZG2i/uXdKP6m+sRIDni\n",
              "GhkNz4Npd2HMK6Eg+L4ysTfDSjB/LLip7zQcjI+YFHweECsyr3RxHqI17BHpbM6EsO2giGQl36CR\n",
              "7miuN6MyGxqIAuEnCg/ig1IVQd7a+s2906GudK5stqn2OmOye7F0oPek7lToWzdo0hyvQrlLl/dp\n",
              "2yPuqSykuZs8JDPDR1ZGRFFoOMi5h+6OVkCV0592T5qoPC2iO+h18xxDYmJKvWFX75ni0OCzhqDO\n",
              "dCfGaQ6+TI6HGkTQu0KL1hFc4/7/+gLzokSWiOv/JDsmS24IitUxQj94+5/cJIbDaZSeJLsyI64s\n",
              "yCgeEnL1RPe1aG4EaUVp+nkZu+oqeSgACIsMn8fCe8Zi/9LBhJGvu1kZLyA5jH/PL7oM0UiVnIYX\n",
              "gttTvhEgy2MeYaMtH8ZoooNk6A+a5G2f7mZA1tKO7n6jhD/mzjcIe/+tZV26RX5px9/ZS6/PJxUa\n",
              "l74TzxmSyNmvbPoA6HNY6YHDyarzr15WzF9xaeS13XV/4CVrYje11rBWuQD/OywkCItPoZTOwVIr\n",
              "F0BxWwiF0I+6T9bCDaAr5R9Rivx+FTvnDv7LDK5dHQvuqGHZkeYuKYLi7VZt0RNg48dVkw/bcT/m\n",
              "5PR70a33WGf6fDY6CI7n92qxP9I1CNzn6foYl+uB/cKEife/DaTbqD4dUu+8s1RFOm+D391rVV3k\n",
              "BOJrDX5qjYj9gxd8aWNaKzngei49MW5xxNzgaLGcPHs4byQPmtfBdO0WIKEX22UHylHjlgrjqTFR\n",
              "hZ0ABUK9J+YW5rKRLW3HD2p/8c9c0dhsl5WKNNb3+Ql92IGw58fNumGvpWAPx9l4V7UnkB3lIClt\n",
              "SwAABCVBnqhFESwz/wAABpflzcKlxnccL0EEfaACSyK6sb1w3gQdsB2B89yH6cv+lxCcV0yl3zWb\n",
              "RiOP/4LU9KXDl5xxqrit44ZI42Ls5mXzht0FDlj0wCqyU7Rm+2xow7TFUGrbkEZIzHyECx8eihK7\n",
              "LGjWAhshyed554HfDL9Pp2YLACKGc7J9mFPV/5I2bjWz75ovZLTCSFGixLWo0wETC/T2AwE5yrwh\n",
              "zeHqVijaisR2W9KkIb8ylQ+iqZ3/6t8xHXDA138NOY1Ova5lXEp2QT0b8OAYKgQomckm20nH4Xh6\n",
              "sx4dEdV3YREGZUS2DsBd090wSCHR8vcWvLCjNa1B+KwlmVycgdn7un751OaUqiEedBuDpxpJSbZn\n",
              "fO7M+5fRLUeyI0XHfrZ/LbNkUYp5rw8B4aZ384FTyqThhJemdxFSmrpcPEu0zsHvJohNwRs6vhQv\n",
              "j3hy97nZ24CNqj9KqD/zi+KO+Bpmxr7SmH4ucXCEcI0DBrlpqLLEivrlLVVpHBQeFYeFpRokJ+2M\n",
              "Y/611SjQVk/l01j3NGRoh8Fd2lnTUd8Skj2BIq2blc9LjJjrLvR4i7yq4OGj8OwnYThkHhUBBd+x\n",
              "VQ39OEXn7XatLVB0oJQmQGOpgI8kVT/IEtVwu9jVO83tlcDLgp9kuLAtxUy5LQ/35EOhLREHjrom\n",
              "47Wha5TP5Qu6OJd9UGyaUczXozw7kwRqj4vjZ7lzfOoyE0SAWcOycuA87je2CD42mZGdgG1/BF0x\n",
              "qfe8DeU8qJshLMTOwsaFjIo0Kw4TARWA8L9V2sn+RtVhTy34tD9372CRnQzFzbO0pLyIS1cKwtIr\n",
              "k2VWntLs/PIKGlC74hxfbnSne22v1lgmpNh3UCq0tdmd4Ksoea97isludcFemscXwXSeUzBAG0+D\n",
              "tzkd5JOm482s1/41iUZ35u6FhH4iVFvG0MbkLuW2VJ9VRPRVpcnNpz+bfzoIlWk+gPZbVTbjcCnD\n",
              "UkGlZc2PMNBNVxHz0tZNackUTKZSt+AkihbczgLKbWAsroLwNvqgwom7+DgkeghLjE+xkViKQVkQ\n",
              "G8FbEj+pcExNCfsmZsSAAyXfkcq4QuYG9bFZsoeMSKLjml+sxJDmx5LgyE+VphIkuM9ONLObgoiy\n",
              "o4nvkjGZLD+sdiKL4nPkJQE8kTXULoXupM0yabLWDhK/r35WsT2Gwd68v95VKjNugBlgYYqOfBBV\n",
              "utk8T9IvhFUy2sM52Pdp4CGMZnFDh1ZhF6Okn62IDLeaLYhgT1FQTOMDZvR67bZpgM6RBUIIGCM/\n",
              "KuYq0VFI9l3aWdjBSTC3AabwNZ2EO5NTFPdqpWsX0z/mpcvAfar5ARD27ppDHbQtVP8v5lwXWHVN\n",
              "CKtZwsw8XS0UYTuI9IBZvKSEbNgR8+wTzP5gnRMkHTuP2dodsABDwAAAAeUBnsd0Qr8AAAxEfFZx\n",
              "HgO0+0EgAflAAuoRX+2wGPx3f+Z+eYbH3G2gBSPYzirEN/HbWXBHdbNpiu1zlnGOk5aE9r8iqcSw\n",
              "xqvhCk7B1Py5eBzuq0fejJQ3gfl0Zv6a6F2XfaaIXvJiE9BKlwAb08MZBMyPaflsMF6RWprh8vud\n",
              "NPX9sP/g2ksmfUV9SpLPlzoDGcxlLPVai+j4fcayVTw8gZbESF71EBXgCEv6XKgPLqiCyP6u50cO\n",
              "J2HEAni5KlOhwnOzpy0CdnO7ecBM8EspYQSBQ+ZpIK78VwApzU+dfz1fJHPutLNOgwyQaSRPMPRw\n",
              "Wb8pYMq7WlWsgd8uOeQV/5UxkJ4sZ/NCss2hpHRdTaoOFPEPXdiW5/3/8i+b9ufXwgNvxldTTam1\n",
              "Zc9LhZb15VeFI2egmwo9w0zV8MJzVa5x5ne6Un1uAawE5VRtKb7394OxStqB8iajeYyhoLttSI0V\n",
              "oxALQ/eupT0casbmnykXkCM/FSLEL/jF97bxKQ9q90ftnrAGJdYwajzP9+RxRScGAT966wFbNlJx\n",
              "sKeNkAmgS8S3iZGmTU03fOb+pgJXweciO8Nje5H98g5wuyUFKBdvDN51kkJ/W0pHYjz07LAe6Ghe\n",
              "rY2dRlOF2MMi28iJ8fABiwAAAjMBnslqQr8AAAule5OfuP3yxnJaCxN70RQan5WWp7DgA5TJQ88w\n",
              "nbrNae4K7HRdbWWOVbv/Q+7p21MhxUC//w7b2CmVn9KMKYX3tPQIHD9UcQsgItJbtBAarYN6EkHY\n",
              "24B3FxACRN+u6ylDF168RfOA9rvScltzn6dG7fhMJIEDyIIZgiN5ItSfZwHODzVneyCu99KfBlOf\n",
              "B6XwIXOAdzw66xMaRM41w6B3Cs4XwK9NFXW1fwVp91UKPJ9UqiGDWQqApfaFaDjVh7mtzKMbV36g\n",
              "fBqaB9fS2F1ihIf3lyNmAL8g2vDkGGTyQeOXH6FaeEgqZyxEbrvlSF07uxr6hOTZaCrwCTnMTgoy\n",
              "pSyri3EHq3sUdMQoqZuhUnE1SvdKMDGRam5Bze3PM9+rGkyIJFUhVoO+9jKvAbrj6tU4sM9HiaMp\n",
              "rpS2FbBAdP4iUXXh+nlQ0wBzuIIpWIUBTM0CKzGLhpRaCsB3hqj6m+R61xzUxIfEeP6e0Hrsy5oF\n",
              "mFrPus9QdefRbQjhWjRvusvsb+HshWL/DARBaxmrL74RaZuuyydaa5jyJHA0mOA5UACHnav8LA35\n",
              "MUXivAKu0BVOEaxJ8NjQHeDvqpI+liTGlDWNfouEVITCMvotOLPEzYocv4T4o3BnNuTtWf2MYoQE\n",
              "zRsInGjJGTR5Gg3VuPst8AbZMFQVbTtlKg0xdLKKzv+UkR+bnFwhycTzkSTd3gcFTDt3DecZRWnz\n",
              "DL7HgcQYeQ21i0AGBQAAAylBms5JqEFsmUwId//+qZYAAAd/20C9/lvt29jd9QcXn+DPx8AAc7cf\n",
              "9/pl9Rh/jaUT5XhAnsEc6c4JqaOb4KUPAABHHVVKjwYNH6qunNl5luk2xpgqbYtu6JxhNjn6LvUv\n",
              "52Q2cJVUnZ/qZ1NMVfrM6+97slDYg1fncoVYECSaaM/AdqcDDw+uHR7SZt64Jdxewb1IHxs4qzu9\n",
              "FHG0GK26vKegvjoW3Ld7Bl3gOA4z40CIb+gsr+C4NE5piGRiUs64sJ+h9M53qCGBXsfJcYSBh+24\n",
              "48ePu6Z7ZpC8hMPxJiP7Fx1i7kAmVLzOq1IP+em+p0sZzU06WkLkUOCv0eUMFE9e0l1I+oFmBBPI\n",
              "aXzUbyN/tLHxVkvcwAIajIhMJap+dj0OLAWbQC8xMWsgVsqeTQyfsF7YXz/iAT033igAHj0nPBK1\n",
              "OVptNwt6KdRiYiZ3OpuWCxFKX+MlDKlmva0Bd7GTPelUVYu/DWY7PWc86Ga3MaMnVnzlqD2q+TxI\n",
              "ZFIPdOviJ0OtU/e9NHdPBi1Qg0RBsH5JKAsykcsShDQlJHkMRCQ45EZUmjUGYuonRtnmCJEdNyDE\n",
              "f9soBPlEp6y1+1pMryqnjB8BimKygtkEHyoaGPY6U40r2pVswsCnyzN6khF2YVBCu09KSAfPO2vr\n",
              "nGyo/RCALaQJSa0QbjfvJ9lAebXFzJvTKF8qXUfiYHq4uBlGBc4OBOaWKoTtGnexkqbIEbIfaaZk\n",
              "lL1dFDOEqTquXolhFOwejc6QAtA5Y2xK5k2neN2EOxCRBpfTUESU3eNmyPkuteObiiObh3fZvx1I\n",
              "HY0HQvksQ5I3m1b7A0F38qX51/vo/sx3+TffLoNJS9AfgYF9P6VS1X79oShXlvvefXeTSUqvAj3r\n",
              "nI2xyC5NcK73YyEOriCdddXqZNpitsKJ08KSTOpu+pPa12kZM3+eJTqsU2szNHC+v+YYOmmApiMq\n",
              "Eg2w36TY5YirO25Ey0xNDvtWpYYvli4wpTxUY36GnqEt5FemCcjyEvGqDGHyFoUCeMnGrqnRiY1D\n",
              "Bsbz54rFPR7R2W+F5Dm4asfcHjSIUwnRzjRXkAAAAhxBnuxFFSwz/wAABpfgPq7/7BpY63eYkrOw\n",
              "m+ziRCIyQeyjGJEc3ok7oyUM+ABj5Wm6hGzG6fa7ye90UtNzMI+uI/nIflFPvO6UiP8z3uHdo7an\n",
              "gpn5TQ5/j/ghwpGJ85Lai/xCt5UzL3n4VL6oymmRc2SxR8yavGjGOvnEUt4F6ecWYcnP1oU3cKDY\n",
              "7/foNQxOfs9wCC3gIPJ8HEeKpDZ1lyY6yeJiamHiHMDCMIZYzmyl1aww7VIy8xpOuT3ECSQzGcWf\n",
              "TUznHvz4/Kh1+NJbmVt46bm0v8sF5hdok6ULFGS5N7U25H9iw69wSiSVCzVl7S/6R4SE7KYsJi1g\n",
              "Lt7lPaYaMkg2dwHFXqYzDGRGcXIZZocya/WhZIDyml6qIyALH7fB9BcCfdDhOMb1IKE3vI/16YmL\n",
              "o0cQqwVni1kAQM5v5pNaQsaXZhmkREnYtnkaMN/PJK13qyA6rqMtr0WVlLIZE2cY8LSfGtCuOldZ\n",
              "wdI0oHYZtQTj1NSOvX7oLRaoChHx8oV1iAgWUmqqgOdoVvnCuJmdOzfzhJq+rADZ+zcDYXRWC4iY\n",
              "ngpG7TN7VEOBR4BfdNwdXQXhxAfIbTsUDFK2y/lYu7uanLQqlWbL+7Vql+cNKj9tN7QgkjgkjoiB\n",
              "lHN7n9x1Biy9QBRU1trGpmzpkkIElmjZj5NJ5YX21QIXvkBMS3NXAm1pc3R+nlG/A7jNfY9w8AgA\n",
              "KSAAAAGxAZ8LdEK/AAAMRFYu9hhwqAA2Gu/yJqWPojZUgwjqHuQ4K7ehgwpzJJPtXfl2aN9odf/k\n",
              "vHkb84CwdimNd3zNUdo8CP//hDW/k/IMhcV1wUn9GDKxk5ThBhKNaJe7R5rd2ZHX2xOiBLDQ81d8\n",
              "MhM9++sSDIZje8zQB+8N7hz3R8mPsItU7Ns2ZzygjLW6T/XK06/P3RMzwhYm5rL4PfpWAxmg/Gjs\n",
              "g13EtDrDqSysOWAzlBPWIqgqqRivcR/uvLLsiKMWG/ep7GSdxspQslkr/nWhSfLGD20ijY13MZST\n",
              "2uRXnmjP7Lt8BBadD4yXw5Kxa8xb2GP30nD/pe4vecRtvbdkaB0U72TKwLkhI9eYrYo6tSDmnIu1\n",
              "WIHzUxCuZjeYGGv8kFdxvUDUIkbYgGuEjbtEHGNK4+MdvPeK4m+nvnJMgzzzfP0shg6Ycnl06Abu\n",
              "N1x/QRUW0Y8HrYqkO2ITfXJub9y7XiqBTLurSUGWtEuwf7wDjed8y9yRQIgshcrh1ws8h2Yqa7cH\n",
              "piIyeMnLh6JXitSp4b2Y3S0clryM0S8NLxPZzt234++QZIcBPgAEvQAAAawBnw1qQr8AAAxBDrFx\n",
              "Ou8dc3TSAAHDI/p5c0QPCfSErFJx3CBJkQ//4dt7VU9fbiOFvbzmLoovYDteVHOX3/AlOx09ohS6\n",
              "gH7pbiBuONG0tWUZTTri9aMaGrR1Ncngmb2GZbWmsU+A5uBsWyuvGb0IV1BXm/fANjaWTHkcjnW9\n",
              "3nNvLlA1cQD2Xp6QJTK1Yhn5VS0n3FIzXApkefWkeDx8KFAGpcLX7FCZUrKq3aju3TAnb2MLm+jQ\n",
              "9xaKNiMVGQk2qUZw7drtfYhx09QnzyViaFRes0Epw5UAFeBU7e+QXuJ2URRmaRupxGRGFTsRiUtB\n",
              "xpaPDpgupATeh+jIqhuamlWFwfYWTL5btgJabzQLYE/K82aBMvFkn/pGb4wxEDoRhLlatBNVYJ2h\n",
              "PiiNfkJd5wiLx7tTtiPFZyNWUY+5qYcDdaG2BVxHmkmAA60LvQSd1nMu3D7zU53n7r8Vh4SJLNmu\n",
              "QNt4k5nKNnKwdiOrzfob++uhqvnW4ijmy9rylWH5BVR7FMb9qhv/ycRH2MChRimz2ToUEj53Jq9O\n",
              "8pBma4buIofjP0ZiJMAC7wAAAXpBmxJJqEFsmUwId//+qZYAAASg2uwABIfBAJR/7PM2O//1ouPe\n",
              "adbjpAuzAYAIni+Enmv3j3fe6N01LMTdIsAk5yVwt4u6eB+YLisXNl/A+1QYlJsnITT3nwXsDE/5\n",
              "svigUUAC3uUFkQn3wzXVmPr/furefrFsM5+M0Cu9zwzNuA9/TgnYN+idDHdupvtmk3N0r3IZ+AUV\n",
              "DzJWdvW4iwJBTnglqYB9T/Afth4tiJ1fVqjc4vfAXzwy4YoN9k5DnJX/0M9c3fEHxFoCmzl4Zp67\n",
              "4UoWkFqoFYFyfv5hbytMVHfnUtoc8BjHT7kweo51VNF5w3Pl2HKx7BxiTwU3c9F9gM1l7iLEd43g\n",
              "ErBpDRN83KF30lKYPI3gz1htCQaex5BrH/Qji94XS1AQ64nzLn0+Uk4JfIUoPf4k7EwArxfhnuz6\n",
              "marea3qiym1JiiNb9BmysxoL/XyuptBK5COB0Gg87cmJDPOLeDEfaltZBvmm/6407WbRzrD8/z0A\n",
              "AAF6QZ8wRRUsM/8AAAR3XiopXF7l1AApe0tQXwYlfVUvx/MJGSdTTCwPZVH1EkSO/zWgbs+HqUoZ\n",
              "VAci76BDWEc/TwcjVCW7/fcyUdBq/SYXs/0xZja589oa6u8RgkpUpOAk2zOiUVS9PSX8//vKu9aO\n",
              "SW+xdChuUNyZNoWXE7SjCFTfYaYpbJ9Ohk8NgvRp4IeMiJ1M3bpDk48bUkCps9C2lS3OoBL5K9MS\n",
              "YErqMZMg784/5lBPJeiipKG8NCv6p6npgtuAVHaXblWllqzfALV6WqRlZAU+2+LfLGOwOeUN+Q6s\n",
              "q4wjX9S1KXsVr/J8GJvvjlmg27wyr0m9pMELRu1heIxCEIlVzZIddGJCXnuZaRDNMCAMxidnZjGi\n",
              "vRHNQ+3IqRKT3KQ2PF+q8MT/zpQSDPt6yaqdo3qZfeR5dEAnJW3fYBf4K9q3pFDSCFKfATSFB3KZ\n",
              "fSLNIWGC/A6nwK9TMR3SrHQ62u1nlrHw6I+BGMxfoyIXvPWQAKCAAAAA4gGfT3RCvwAACCul5teD\n",
              "k8G5eLxUe/4oPe/wqpj0xRXly5whrQyxdeQAiB1OQABB4WP32jkVcg51mIaVGlNLczigKSmp05wy\n",
              "3/Zb53UKxmTYQh5XrOmOHgSwv9aDdzld93KHwFjXta63+/qzZEGSd8L9k/49Xyv0XwunUrE48Ys3\n",
              "WdVvcTmuPdz+6FamVPY6lIQ9/+cHYfmBmvG9fnTgBrlvMRn2D6wisgCov0tpfBz2AOXu0BIDDYW9\n",
              "ZVVwXHsbOXEKZ125tIS0n2PGuGU1puUR5yR+PrLgMKUHAOAIs5IADpgAAADJAZ9RakK/AAAILsRv\n",
              "N0AB1egrtyOZrcTzvtXAkxvI8AZgjpguohl1b2xPcBu0bY8Qh0AxYTctY4ML3v/PhJ3eRZ9PkcDO\n",
              "Q7MRc7aVgtFB8xC65nWfKwmuJjqVVOcO1B6ssfd0fMRchhPTRvLXDPJReYG176VkPheQOvC7tnXH\n",
              "eu2N51v8rQuo9rhQUomh7RL4uTshY33AcircRuDn0vzzH/Ss/IAknmsv2fAfF2OISn+Xhkqkdy52\n",
              "F0UwP+KKiswTN8RYjI/CoAHzAAAA0kGbU0moQWyZTAh///6plgAABKfmJ7YUbp3iACvotAT3/9v0\n",
              "j+KTgm9dgf8GW3Xilv/B4eNf4XpkvzP2fUIySlGlrtIi6MS9nEtnJleKou8DiXvd346oBbN/6MAf\n",
              "ui73MCAYODmgUG7OVZcQrter7MRdbe/kGvu/WfPL8hgD5SzG4P5tjT8J0ABZ+wmL/8Boah9G9deO\n",
              "X2cQNkeFJKF772f5HyaxGnVPzYyGTCzmCYFqVRAS0+zvENxKAvI9R/2HB8lCOeVFCReKaYqUQxwk\n",
              "4bzmgAAAAGFBm3dJ4QpSZTAh//6plgAABGfmJcRzO/fvuSybRmXgY+VFaHh1/MqMvcZie9Nk9eMH\n",
              "F4AIFESuqvCeBJ2Qcm1cr8B6T2KcJnDG1OwgEl6aHMvuhh0IbtJdjdGVaA3AAJOAAAAAS0GflUU0\n",
              "TDP/AAAEdyDp2N7oPWuQn/15gKG8bN+eB35W/Rv/16QvcAB0VmGcEdSxGRgfacC9M8KGQbpk9acJ\n",
              "ABoFS1VyKCOZCLABbQAAAEQBn7R0Qr8AAAgrpSfwASJE1YgjRjUskBfLwFrq4/EvRy1K4Nepfq60\n",
              "lYq4EYMqFN/LgAc/aOxXj5qr5IvX52piaegBNwAAAC0Bn7ZqQr8AAAguw5cUb2IPQQMJW3KiCkev\n",
              "3sAHhMFHMmPai3Lan2bN0ZoAW0EAAAAjQZu7SahBaJlMCH///qmWAAADAAVT4VxEmvB4bNbinv8g\n",
              "NmEAAAAuQZ/ZRREsM/8AAAR3Xe7cmnhCOgnGnydVhl66VkxgecLSNeCSiJngTe/ZCADjgAAAACEB\n",
              "n/h0Qr8AAAgromuhO7uZ/zdO8b8I9ABG82mVYAAAxYEAAAAeAZ/6akK/AAAILsCM3gGijw9V2R8k\n",
              "5X62lOJAAGpAAAAAGUGb/0moQWyZTAh///6plgAAAwAAAwAALOEAAAAqQZ4dRRUsM/8AAAR3Xe7c\n",
              "mnhCOgnGnydVhl/jtEophg8cgrw0DCgAALiBAAAAHQGePHRCvwAACCuia6E7u5n/N07xvwj0AEbu\n",
              "AAHzAAAAHgGePmpCvwAACC7AjN4Boo8PVdkfJOV+tpTiQABqQAAAABlBmiNJqEFsmUwIf//+qZYA\n",
              "AAMAAAMAACzhAAAAKkGeQUUVLDP/AAAEd13u3Jp4QjoJxp8nVYZf47RKKYYPHIK8NAwoAAC4gAAA\n",
              "AB0BnmB0Qr8AAAgromuhO7uZ/zdO8b8I9ABG7gAB8wAAAB4BnmJqQr8AAAguwIzeAaKPD1XZHyTl\n",
              "fraU4kAAakAAAAAZQZpnSahBbJlMCHf//qmWAAADAAADAAAs4QAAACpBnoVFFSwz/wAABHdd7tya\n",
              "eEI6CcafJ1WGX+O0SimGDxyCvDQMKAAAuIEAAAAdAZ6kdEK/AAAIK6JroTu7mf83TvG/CPQARu4A\n",
              "AfMAAAAeAZ6makK/AAAILsCM3gGijw9V2R8k5X62lOJAAGpBAAAAGUGaq0moQWyZTAh3//6plgAA\n",
              "AwAAAwAALOAAAAAqQZ7JRRUsM/8AAAR3Xe7cmnhCOgnGnydVhl/jtEophg8cgrw0DCgAALiAAAAA\n",
              "HQGe6HRCvwAACCuia6E7u5n/N07xvwj0AEbuAAHzAAAAHgGe6mpCvwAACC7AjN4Boo8PVdkfJOV+\n",
              "tpTiQABqQAAAABlBmu9JqEFsmUwIb//+p4QAAAMAAAMAAFlAAAAAKkGfDUUVLDP/AAAEd13u3Jp4\n",
              "QjoJxp8nVYZf47RKKYYPHIK8NAwoAAC4gQAAAB0Bnyx0Qr8AAAgromuhO7uZ/zdO8b8I9ABG7gAB\n",
              "8wAAAB4Bny5qQr8AAAguwIzeAaKPD1XZHyTlfraU4kAAakEAAAAYQZsySahBbJlMCFf//jhAAAAD\n",
              "AAADAAVMAAAAKUGfUEUVLC//AAAGIiMVvlQ3eTghS+ydciz8xeG/JDMtCBsiEpcAAAooAAAAHgGf\n",
              "cWpCvwAACC7AjN4Boo8PVdkfJOV+tpTiQABqQQAABY5tb292AAAAbG12aGQAAAAAAAAAAAAAAAAA\n",
              "AAPoAAAJ9gABAAABAAAAAAAAAAAAAAAAAQAAAAAAAAAAAAAAAAAAAAEAAAAAAAAAAAAAAAAAAEAA\n",
              "AAAAAAAAAAAAAAAAAAAAAAAAAAAAAAAAAAAAAAACAAAEuHRyYWsAAABcdGtoZAAAAAMAAAAAAAAA\n",
              "AAAAAAEAAAAAAAAJ9gAAAAAAAAAAAAAAAAAAAAAAAQAAAAAAAAAAAAAAAAAAAAEAAAAAAAAAAAAA\n",
              "AAAAAEAAAAACgAAAAeAAAAAAACRlZHRzAAAAHGVsc3QAAAAAAAAAAQAACfYAAAQAAAEAAAAABDBt\n",
              "ZGlhAAAAIG1kaGQAAAAAAAAAAAAAAAAAACgAAABmAFXEAAAAAAAtaGRscgAAAAAAAAAAdmlkZQAA\n",
              "AAAAAAAAAAAAAFZpZGVvSGFuZGxlcgAAAAPbbWluZgAAABR2bWhkAAAAAQAAAAAAAAAAAAAAJGRp\n",
              "bmYAAAAcZHJlZgAAAAAAAAABAAAADHVybCAAAAABAAADm3N0YmwAAAC3c3RzZAAAAAAAAAABAAAA\n",
              "p2F2YzEAAAAAAAAAAQAAAAAAAAAAAAAAAAAAAAACgAHgAEgAAABIAAAAAAAAAAEAAAAAAAAAAAAA\n",
              "AAAAAAAAAAAAAAAAAAAAAAAAAAAAAAAY//8AAAA1YXZjQwFkAB7/4QAYZ2QAHqzZQKA9oQAAAwAB\n",
              "AAADACgPFi2WAQAGaOvjyyLA/fj4AAAAABx1dWlka2hA8l8kT8W6OaUbzwMj8wAAAAAAAAAYc3R0\n",
              "cwAAAAAAAAABAAAAMwAAAgAAAAAUc3RzcwAAAAAAAAABAAAAAQAAAaBjdHRzAAAAAAAAADIAAAAB\n",
              "AAAEAAAAAAEAAAYAAAAAAQAAAgAAAAABAAAKAAAAAAEAAAQAAAAAAQAAAAAAAAABAAACAAAAAAEA\n",
              "AAoAAAAAAQAABAAAAAABAAAAAAAAAAEAAAIAAAAAAQAACgAAAAABAAAEAAAAAAEAAAAAAAAAAQAA\n",
              "AgAAAAABAAAKAAAAAAEAAAQAAAAAAQAAAAAAAAABAAACAAAAAAEAAAQAAAAAAQAACgAAAAABAAAE\n",
              "AAAAAAEAAAAAAAAAAQAAAgAAAAABAAAKAAAAAAEAAAQAAAAAAQAAAAAAAAABAAACAAAAAAEAAAoA\n",
              "AAAAAQAABAAAAAABAAAAAAAAAAEAAAIAAAAAAQAACgAAAAABAAAEAAAAAAEAAAAAAAAAAQAAAgAA\n",
              "AAABAAAKAAAAAAEAAAQAAAAAAQAAAAAAAAABAAACAAAAAAEAAAoAAAAAAQAABAAAAAABAAAAAAAA\n",
              "AAEAAAIAAAAAAQAACgAAAAABAAAEAAAAAAEAAAAAAAAAAQAAAgAAAAABAAAIAAAAAAIAAAIAAAAA\n",
              "HHN0c2MAAAAAAAAAAQAAAAEAAAAzAAAAAQAAAOBzdHN6AAAAAAAAAAAAAAAzAAAE8AAAAZ0AAACF\n",
              "AAAGdQAAAw8AAAEgAAACFwAABZ8AAAQpAAAB6QAAAjcAAAMtAAACIAAAAbUAAAGwAAABfgAAAX4A\n",
              "AADmAAAAzQAAANYAAABlAAAATwAAAEgAAAAxAAAAJwAAADIAAAAlAAAAIgAAAB0AAAAuAAAAIQAA\n",
              "ACIAAAAdAAAALgAAACEAAAAiAAAAHQAAAC4AAAAhAAAAIgAAAB0AAAAuAAAAIQAAACIAAAAdAAAA\n",
              "LgAAACEAAAAiAAAAHAAAAC0AAAAiAAAAFHN0Y28AAAAAAAAAAQAAADAAAABidWR0YQAAAFptZXRh\n",
              "AAAAAAAAACFoZGxyAAAAAAAAAABtZGlyYXBwbAAAAAAAAAAAAAAAAC1pbHN0AAAAJal0b28AAAAd\n",
              "ZGF0YQAAAAEAAAAATGF2ZjU4Ljc2LjEwMA==\n",
              "\">\n",
              "  Your browser does not support the video tag.\n",
              "</video>"
            ]
          },
          "metadata": {},
          "execution_count": 28
        }
      ]
    },
    {
      "cell_type": "code",
      "source": [
        "m = 100\n",
        "n = 100\n",
        "\n",
        "t = 100\n",
        "numiter = 50\n",
        "\n",
        "change_array = np.zeros((1, t))\n",
        "# change_array = []\n",
        "\n",
        "for i in range(0, numiter):\n",
        "\n",
        "  influenced = generate_random_matrix(10, m, n)\n",
        "  grids, change = interactionSim(m, n, influenced, t, reflectingLat, 0.125)\n",
        "\n",
        "  # change_array = np.append(change_array, change)\n",
        "  change_array = np.vstack((change_array, change))\n",
        "  # plt.plot(np.linspace(0, len(change), t), change)\n",
        "\n",
        "\n",
        "change_array = change_array[1: ,:]\n",
        "# animate_simulation(grids, t)"
      ],
      "metadata": {
        "id": "1OXE5A1J8KGW"
      },
      "execution_count": null,
      "outputs": []
    },
    {
      "cell_type": "code",
      "source": [
        "mean_change = []\n",
        "for i in range(t):\n",
        "   mean_change = np.append(mean_change, np.mean(change_array[:,i]))\n",
        "print('Max', max(mean_change))"
      ],
      "metadata": {
        "id": "Zp7ABvWQE8oB",
        "colab": {
          "base_uri": "https://localhost:8080/"
        },
        "outputId": "0abb778f-1b31-4c17-efb9-6d08ae3cb838"
      },
      "execution_count": null,
      "outputs": [
        {
          "output_type": "stream",
          "name": "stdout",
          "text": [
            "Max 219.52\n"
          ]
        }
      ]
    },
    {
      "cell_type": "code",
      "source": [
        "plt.plot(range(t), mean_change)"
      ],
      "metadata": {
        "colab": {
          "base_uri": "https://localhost:8080/",
          "height": 447
        },
        "id": "LmBUHciBGElm",
        "outputId": "6bfb88c6-850f-4480-e7e8-a5a8e5e5d9e2"
      },
      "execution_count": null,
      "outputs": [
        {
          "output_type": "execute_result",
          "data": {
            "text/plain": [
              "[<matplotlib.lines.Line2D at 0x7b5cfba705e0>]"
            ]
          },
          "metadata": {},
          "execution_count": 35
        },
        {
          "output_type": "display_data",
          "data": {
            "text/plain": [
              "<Figure size 640x480 with 1 Axes>"
            ],
            "image/png": "[encoded data removed]"
          },
          "metadata": {}
        }
      ]
    },
    {
      "cell_type": "markdown",
      "source": [
        "In the above plot, black cells shows influenced and white shows non-influenced."
      ],
      "metadata": {
        "id": "4jSI0DnzRUSV"
      }
    },
    {
      "cell_type": "markdown",
      "source": [
        "We assume that only the influenced people can influence their neighbours. We take the moore neighbourhood here"
      ],
      "metadata": {
        "id": "ZqwS39Z4Rx3R"
      }
    },
    {
      "cell_type": "code",
      "source": [
        "global AMBIENT, HOT, COLD\n",
        "AMBIENT = 25.0\n",
        "HOT = 50.0\n",
        "COLD = 0.0"
      ],
      "metadata": {
        "id": "Vy5I8QiGPAkO"
      },
      "execution_count": null,
      "outputs": []
    },
    {
      "cell_type": "code",
      "source": [
        "def initBar(m, n, hotSites, coldSites):\n",
        "#   global AMBIENT\n",
        "    ambientBar = AMBIENT * np.ones((m, n))\n",
        "    bar = applyHotCold(ambientBar, hotSites, coldSites)\n",
        "    return bar"
      ],
      "metadata": {
        "id": "yHtdJWoBPCfT"
      },
      "execution_count": null,
      "outputs": []
    },
    {
      "cell_type": "code",
      "source": [
        "def applyHotCold(bar, hotSites, coldSites):\n",
        "    for k in range(len(hotSites)):\n",
        "        bar[hotSites[k, 0], hotSites[k, 1]] = HOT\n",
        "    for k in range(len(coldSites)):\n",
        "        bar[coldSites[k, 0], coldSites[k, 1]] = COLD\n",
        "    return bar"
      ],
      "metadata": {
        "id": "4aHzN7SsPEfo"
      },
      "execution_count": null,
      "outputs": []
    },
    {
      "cell_type": "code",
      "source": [],
      "metadata": {
        "id": "KstXhqmuPHVe"
      },
      "execution_count": null,
      "outputs": []
    }
  ]
}